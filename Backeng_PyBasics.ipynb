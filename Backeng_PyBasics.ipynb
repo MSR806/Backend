{
  "nbformat": 4,
  "nbformat_minor": 0,
  "metadata": {
    "colab": {
      "name": "Backeng_PyBasics.ipynb",
      "provenance": [],
      "authorship_tag": "ABX9TyO2sMNaMao+VhYHGtWYTk1w",
      "include_colab_link": true
    },
    "kernelspec": {
      "name": "python_defaultSpec_1596466505827",
      "display_name": "Python 3.8.3 32-bit"
    }
  },
  "cells": [
    {
      "cell_type": "markdown",
      "metadata": {
        "id": "pZF_u94bulbt",
        "colab_type": "text"
      },
      "source": [
        "#Numbers"
      ]
    },
    {
      "cell_type": "code",
      "metadata": {
        "id": "Yu3z61sUudia",
        "colab_type": "code",
        "colab": {
          "base_uri": "https://localhost:8080/",
          "height": 35
        },
        "outputId": "5f305fef-c664-4dfc-aa8e-7f8bf7c76ea5"
      },
      "source": [
        "123+1222"
      ],
      "execution_count": 2,
      "outputs": [
        {
          "output_type": "execute_result",
          "data": {
            "text/plain": "1345"
          },
          "metadata": {},
          "execution_count": 2
        }
      ]
    },
    {
      "cell_type": "code",
      "metadata": {
        "id": "9SFqhHNiuqOt",
        "colab_type": "code",
        "colab": {
          "base_uri": "https://localhost:8080/",
          "height": 35
        },
        "outputId": "063f8d4e-14fa-447c-c7b8-340346778b6e"
      },
      "source": [
        "1.6*4"
      ],
      "execution_count": 3,
      "outputs": [
        {
          "output_type": "execute_result",
          "data": {
            "text/plain": "6.4"
          },
          "metadata": {},
          "execution_count": 3
        }
      ]
    },
    {
      "cell_type": "code",
      "metadata": {
        "id": "lwIVaewLurQM",
        "colab_type": "code",
        "colab": {
          "base_uri": "https://localhost:8080/",
          "height": 35
        },
        "outputId": "d59288fe-23cd-4b16-9805-153096fdd0d4"
      },
      "source": [
        "2**100"
      ],
      "execution_count": 4,
      "outputs": [
        {
          "output_type": "execute_result",
          "data": {
            "text/plain": "1267650600228229401496703205376"
          },
          "metadata": {},
          "execution_count": 4
        }
      ]
    },
    {
      "cell_type": "code",
      "metadata": {
        "id": "pMHS2TRLutMr",
        "colab_type": "code",
        "colab": {
          "base_uri": "https://localhost:8080/",
          "height": 35
        },
        "outputId": "144b77d7-57fa-4626-b5e4-fc8f67a49da1"
      },
      "source": [
        "len(str(2**10000))"
      ],
      "execution_count": 5,
      "outputs": [
        {
          "output_type": "execute_result",
          "data": {
            "text/plain": "3011"
          },
          "metadata": {},
          "execution_count": 5
        }
      ]
    },
    {
      "cell_type": "code",
      "metadata": {
        "id": "RiAUl-4LuwUL",
        "colab_type": "code",
        "colab": {
          "base_uri": "https://localhost:8080/",
          "height": 35
        },
        "outputId": "1b1e5211-2c1e-423c-e23f-9b8456a71d79",
        "tags": []
      },
      "source": [
        "print(3.1415*2)"
      ],
      "execution_count": 6,
      "outputs": [
        {
          "output_type": "stream",
          "name": "stdout",
          "text": "6.283\n"
        }
      ]
    },
    {
      "cell_type": "code",
      "metadata": {
        "id": "Zl9FbVZ5u1gb",
        "colab_type": "code",
        "colab": {
          "base_uri": "https://localhost:8080/",
          "height": 54
        },
        "outputId": "01cbb5d1-327c-401a-ca2b-c9a6e3387aaa",
        "tags": []
      },
      "source": [
        "import math\n",
        "print(math.pi)\n",
        "print(math.sqrt(85))"
      ],
      "execution_count": 7,
      "outputs": [
        {
          "output_type": "stream",
          "name": "stdout",
          "text": "3.141592653589793\n9.219544457292887\n"
        }
      ]
    },
    {
      "cell_type": "code",
      "metadata": {
        "id": "wz1vbWbmvCek",
        "colab_type": "code",
        "colab": {
          "base_uri": "https://localhost:8080/",
          "height": 35
        },
        "outputId": "197222a0-867d-420f-9582-69a50357467f"
      },
      "source": [
        "import random\n",
        "random.random()"
      ],
      "execution_count": 8,
      "outputs": [
        {
          "output_type": "execute_result",
          "data": {
            "text/plain": "0.9224082095331853"
          },
          "metadata": {},
          "execution_count": 8
        }
      ]
    },
    {
      "cell_type": "code",
      "metadata": {
        "id": "X753-do9vO47",
        "colab_type": "code",
        "colab": {
          "base_uri": "https://localhost:8080/",
          "height": 35
        },
        "outputId": "afbe5101-e416-465c-8d18-cbc119b636e4"
      },
      "source": [
        "random.choice([1, 2, 3, 4])"
      ],
      "execution_count": 9,
      "outputs": [
        {
          "output_type": "execute_result",
          "data": {
            "text/plain": "1"
          },
          "metadata": {},
          "execution_count": 9
        }
      ]
    },
    {
      "cell_type": "markdown",
      "metadata": {
        "id": "uX7tJ_iXvfTc",
        "colab_type": "text"
      },
      "source": [
        "#Strings"
      ]
    },
    {
      "cell_type": "code",
      "metadata": {
        "id": "ggff0ROXvUEy",
        "colab_type": "code",
        "colab": {}
      },
      "source": [
        "S = 'Sujith'"
      ],
      "execution_count": 10,
      "outputs": []
    },
    {
      "cell_type": "code",
      "metadata": {
        "id": "Wzje1DUmvkRr",
        "colab_type": "code",
        "colab": {
          "base_uri": "https://localhost:8080/",
          "height": 35
        },
        "outputId": "0d102d61-6d59-4a49-cf04-df969d90aa9c"
      },
      "source": [
        "len(S)"
      ],
      "execution_count": 11,
      "outputs": [
        {
          "output_type": "execute_result",
          "data": {
            "text/plain": "6"
          },
          "metadata": {},
          "execution_count": 11
        }
      ]
    },
    {
      "cell_type": "code",
      "metadata": {
        "id": "DZUC8eWMvlJ_",
        "colab_type": "code",
        "colab": {
          "base_uri": "https://localhost:8080/",
          "height": 35
        },
        "outputId": "fa56881f-5c51-43f5-cf34-cf103c592c63"
      },
      "source": [
        "S[0]"
      ],
      "execution_count": 12,
      "outputs": [
        {
          "output_type": "execute_result",
          "data": {
            "text/plain": "'S'"
          },
          "metadata": {},
          "execution_count": 12
        }
      ]
    },
    {
      "cell_type": "code",
      "metadata": {
        "id": "0qeIqr-Qvogr",
        "colab_type": "code",
        "colab": {
          "base_uri": "https://localhost:8080/",
          "height": 35
        },
        "outputId": "501e03a8-c1d3-4b7b-9b8a-f77d078e03ae"
      },
      "source": [
        "S[-1]"
      ],
      "execution_count": 13,
      "outputs": [
        {
          "output_type": "execute_result",
          "data": {
            "text/plain": "'h'"
          },
          "metadata": {},
          "execution_count": 13
        }
      ]
    },
    {
      "cell_type": "code",
      "metadata": {
        "id": "U2qtM7cgvs2S",
        "colab_type": "code",
        "colab": {
          "base_uri": "https://localhost:8080/",
          "height": 35
        },
        "outputId": "e636cdd5-4c23-44c5-a0f5-ab14b2ca56c5"
      },
      "source": [
        "S[-2]"
      ],
      "execution_count": 14,
      "outputs": [
        {
          "output_type": "execute_result",
          "data": {
            "text/plain": "'t'"
          },
          "metadata": {},
          "execution_count": 14
        }
      ]
    },
    {
      "cell_type": "code",
      "metadata": {
        "id": "zLjGZZf4vvT7",
        "colab_type": "code",
        "colab": {
          "base_uri": "https://localhost:8080/",
          "height": 35
        },
        "outputId": "b30c2790-20c9-4fee-a02c-c9a969bb1f94"
      },
      "source": [
        "S[len(S)-2]"
      ],
      "execution_count": 15,
      "outputs": [
        {
          "output_type": "execute_result",
          "data": {
            "text/plain": "'t'"
          },
          "metadata": {},
          "execution_count": 15
        }
      ]
    },
    {
      "cell_type": "code",
      "metadata": {
        "id": "7ZD63842v8tz",
        "colab_type": "code",
        "colab": {
          "base_uri": "https://localhost:8080/",
          "height": 35
        },
        "outputId": "254c503c-1f9b-4727-e4b7-9deacddedda7"
      },
      "source": [
        "S"
      ],
      "execution_count": 16,
      "outputs": [
        {
          "output_type": "execute_result",
          "data": {
            "text/plain": "'Sujith'"
          },
          "metadata": {},
          "execution_count": 16
        }
      ]
    },
    {
      "cell_type": "code",
      "metadata": {
        "id": "hz7Azyhxv_A7",
        "colab_type": "code",
        "colab": {
          "base_uri": "https://localhost:8080/",
          "height": 35
        },
        "outputId": "b1dd4845-dce1-4eab-80e2-82f30c11c10d"
      },
      "source": [
        "S[1:3]"
      ],
      "execution_count": 17,
      "outputs": [
        {
          "output_type": "execute_result",
          "data": {
            "text/plain": "'uj'"
          },
          "metadata": {},
          "execution_count": 17
        }
      ]
    },
    {
      "cell_type": "code",
      "metadata": {
        "id": "m8XZJ-gqwBq7",
        "colab_type": "code",
        "colab": {
          "base_uri": "https://localhost:8080/",
          "height": 35
        },
        "outputId": "fbe70c85-c592-47d6-c4d6-816f6338ca02"
      },
      "source": [
        "S[1:]  # Everything past the first (1:len(S))"
      ],
      "execution_count": 18,
      "outputs": [
        {
          "output_type": "execute_result",
          "data": {
            "text/plain": "'ujith'"
          },
          "metadata": {},
          "execution_count": 18
        }
      ]
    },
    {
      "cell_type": "code",
      "metadata": {
        "id": "pIeHK1P4wEPD",
        "colab_type": "code",
        "colab": {
          "base_uri": "https://localhost:8080/",
          "height": 35
        },
        "outputId": "4f22b6e8-2f36-4961-949b-a859a09f4821"
      },
      "source": [
        "S[0:3]  # Everything but the last"
      ],
      "execution_count": 19,
      "outputs": [
        {
          "output_type": "execute_result",
          "data": {
            "text/plain": "'Suj'"
          },
          "metadata": {},
          "execution_count": 19
        }
      ]
    },
    {
      "cell_type": "code",
      "metadata": {
        "id": "t3BofTNawGWD",
        "colab_type": "code",
        "colab": {
          "base_uri": "https://localhost:8080/",
          "height": 35
        },
        "outputId": "bb99dc7a-5a25-4729-bf66-1ad10a2068a7"
      },
      "source": [
        "S[:3]  # Everything but the last"
      ],
      "execution_count": 20,
      "outputs": [
        {
          "output_type": "execute_result",
          "data": {
            "text/plain": "'Suj'"
          },
          "metadata": {},
          "execution_count": 20
        }
      ]
    },
    {
      "cell_type": "code",
      "metadata": {
        "id": "iWTKS35-wK3K",
        "colab_type": "code",
        "colab": {
          "base_uri": "https://localhost:8080/",
          "height": 35
        },
        "outputId": "5255d9ca-f66c-4f2e-e8e2-c6570818d652"
      },
      "source": [
        "S[:-1]  # Everything but the last again, but simpler (0:-1)"
      ],
      "execution_count": 21,
      "outputs": [
        {
          "output_type": "execute_result",
          "data": {
            "text/plain": "'Sujit'"
          },
          "metadata": {},
          "execution_count": 21
        }
      ]
    },
    {
      "cell_type": "code",
      "metadata": {
        "id": "CHMSMLlEwRca",
        "colab_type": "code",
        "colab": {
          "base_uri": "https://localhost:8080/",
          "height": 35
        },
        "outputId": "610ec6a7-4fc2-4953-bed4-45a398840d6f"
      },
      "source": [
        "S[:]  # All of S as a top-level copy (0:len(S))\n",
        "'"
      ],
      "execution_count": 22,
      "outputs": [
        {
          "output_type": "error",
          "ename": "SyntaxError",
          "evalue": "EOL while scanning string literal (<ipython-input-22-37ee81272fca>, line 2)",
          "traceback": [
            "\u001b[1;36m  File \u001b[1;32m\"<ipython-input-22-37ee81272fca>\"\u001b[1;36m, line \u001b[1;32m2\u001b[0m\n\u001b[1;33m    '\u001b[0m\n\u001b[1;37m     ^\u001b[0m\n\u001b[1;31mSyntaxError\u001b[0m\u001b[1;31m:\u001b[0m EOL while scanning string literal\n"
          ]
        }
      ]
    },
    {
      "cell_type": "code",
      "metadata": {
        "id": "jrALnc2DwW0y",
        "colab_type": "code",
        "colab": {
          "base_uri": "https://localhost:8080/",
          "height": 35
        },
        "outputId": "44150095-201a-4922-bf3c-dfc01757321c"
      },
      "source": [
        "S +' Reddy'  #Concatenation"
      ],
      "execution_count": 23,
      "outputs": [
        {
          "output_type": "execute_result",
          "data": {
            "text/plain": "'Sujith Reddy'"
          },
          "metadata": {},
          "execution_count": 23
        }
      ]
    },
    {
      "cell_type": "code",
      "metadata": {
        "id": "8Xjvsb6Gwavy",
        "colab_type": "code",
        "colab": {
          "base_uri": "https://localhost:8080/",
          "height": 35
        },
        "outputId": "bb39d097-e3be-4ac5-9dea-6bb56a800359"
      },
      "source": [
        "S  # S is unchanged"
      ],
      "execution_count": 24,
      "outputs": [
        {
          "output_type": "execute_result",
          "data": {
            "text/plain": "'Sujith'"
          },
          "metadata": {},
          "execution_count": 24
        }
      ]
    },
    {
      "cell_type": "code",
      "metadata": {
        "id": "PzN0VnfnwfUy",
        "colab_type": "code",
        "colab": {
          "base_uri": "https://localhost:8080/",
          "height": 35
        },
        "outputId": "7ef7aee1-bb06-43df-97e3-d3e9571c43b6"
      },
      "source": [
        "S*5 #Repetition"
      ],
      "execution_count": 25,
      "outputs": [
        {
          "output_type": "execute_result",
          "data": {
            "text/plain": "'SujithSujithSujithSujithSujith'"
          },
          "metadata": {},
          "execution_count": 25
        }
      ]
    },
    {
      "cell_type": "code",
      "metadata": {
        "id": "AURH1OWtwg0j",
        "colab_type": "code",
        "colab": {
          "base_uri": "https://localhost:8080/",
          "height": 171
        },
        "outputId": "6641b7e4-0e15-40f3-b54a-4659503a2607"
      },
      "source": [
        "S[0] = 'A'  # Immutable(unchangeable) objects cannot be changed"
      ],
      "execution_count": 26,
      "outputs": [
        {
          "output_type": "error",
          "ename": "TypeError",
          "evalue": "'str' object does not support item assignment",
          "traceback": [
            "\u001b[1;31m---------------------------------------------------------------------------\u001b[0m",
            "\u001b[1;31mTypeError\u001b[0m                                 Traceback (most recent call last)",
            "\u001b[1;32m<ipython-input-26-bad5284f331b>\u001b[0m in \u001b[0;36m<module>\u001b[1;34m\u001b[0m\n\u001b[1;32m----> 1\u001b[1;33m \u001b[0mS\u001b[0m\u001b[1;33m[\u001b[0m\u001b[1;36m0\u001b[0m\u001b[1;33m]\u001b[0m \u001b[1;33m=\u001b[0m \u001b[1;34m'A'\u001b[0m  \u001b[1;31m# Immutable(unchangeable) objects cannot be changed\u001b[0m\u001b[1;33m\u001b[0m\u001b[1;33m\u001b[0m\u001b[0m\n\u001b[0m",
            "\u001b[1;31mTypeError\u001b[0m: 'str' object does not support item assignment"
          ]
        }
      ]
    },
    {
      "cell_type": "code",
      "metadata": {
        "id": "JD8SWh0XxlOC",
        "colab_type": "code",
        "colab": {}
      },
      "source": [
        "S = 'A' + S[1:]  # But we can run expressions to make new objects"
      ],
      "execution_count": 27,
      "outputs": []
    },
    {
      "cell_type": "code",
      "metadata": {
        "id": "HaRKBLWbx4VT",
        "colab_type": "code",
        "colab": {
          "base_uri": "https://localhost:8080/",
          "height": 35
        },
        "outputId": "c377a3fc-c059-48f7-d94d-54adc3c99c78"
      },
      "source": [
        "S"
      ],
      "execution_count": 28,
      "outputs": [
        {
          "output_type": "execute_result",
          "data": {
            "text/plain": "'Aujith'"
          },
          "metadata": {},
          "execution_count": 28
        }
      ]
    },
    {
      "cell_type": "code",
      "execution_count": 33,
      "metadata": {},
      "outputs": [
        {
          "output_type": "execute_result",
          "data": {
            "text/plain": "3"
          },
          "metadata": {},
          "execution_count": 33
        }
      ],
      "source": [
        "S.find('it')  # Find the offset of a substring"
      ]
    },
    {
      "cell_type": "code",
      "execution_count": 31,
      "metadata": {},
      "outputs": [
        {
          "output_type": "execute_result",
          "data": {
            "text/plain": "'Sujith'"
          },
          "metadata": {},
          "execution_count": 31
        }
      ],
      "source": [
        "S.replace('A', 'S')  # Replace occurrences of a substring with another"
      ]
    },
    {
      "cell_type": "code",
      "execution_count": 34,
      "metadata": {},
      "outputs": [
        {
          "output_type": "execute_result",
          "data": {
            "text/plain": "'Aujith'"
          },
          "metadata": {},
          "execution_count": 34
        }
      ],
      "source": [
        "S  #again the main string is not altered"
      ]
    },
    {
      "cell_type": "code",
      "execution_count": 35,
      "metadata": {},
      "outputs": [],
      "source": [
        "line = 'aaa,bb,ccccc,dddd'"
      ]
    },
    {
      "cell_type": "code",
      "execution_count": 48,
      "metadata": {},
      "outputs": [
        {
          "output_type": "execute_result",
          "data": {
            "text/plain": "['aaa', 'bb', 'ccccc', 'dddd\\n']"
          },
          "metadata": {},
          "execution_count": 48
        }
      ],
      "source": [
        "line.split(',')  #Split on a delimiter into a list of substrings"
      ]
    },
    {
      "cell_type": "code",
      "execution_count": 49,
      "metadata": {},
      "outputs": [],
      "source": [
        "S = 'S' + S[1:]"
      ]
    },
    {
      "cell_type": "code",
      "execution_count": 50,
      "metadata": {},
      "outputs": [
        {
          "output_type": "execute_result",
          "data": {
            "text/plain": "'Sujith'"
          },
          "metadata": {},
          "execution_count": 50
        }
      ],
      "source": [
        "S"
      ]
    },
    {
      "cell_type": "code",
      "execution_count": 51,
      "metadata": {},
      "outputs": [
        {
          "output_type": "execute_result",
          "data": {
            "text/plain": "'SUJITH'"
          },
          "metadata": {},
          "execution_count": 51
        }
      ],
      "source": [
        "S.upper()  # Upper- and lowercase conversions"
      ]
    },
    {
      "cell_type": "code",
      "execution_count": 52,
      "metadata": {},
      "outputs": [
        {
          "output_type": "execute_result",
          "data": {
            "text/plain": "True"
          },
          "metadata": {},
          "execution_count": 52
        }
      ],
      "source": [
        "S.isalpha()  # Content tests: isalpha, isdigit, etc."
      ]
    },
    {
      "cell_type": "code",
      "execution_count": 53,
      "metadata": {},
      "outputs": [],
      "source": [
        "line = line + '\\n'"
      ]
    },
    {
      "cell_type": "code",
      "execution_count": 54,
      "metadata": {},
      "outputs": [
        {
          "output_type": "execute_result",
          "data": {
            "text/plain": "'aaa,bb,ccccc,dddd\\n\\n'"
          },
          "metadata": {},
          "execution_count": 54
        }
      ],
      "source": [
        "line"
      ]
    },
    {
      "cell_type": "code",
      "execution_count": 59,
      "metadata": {},
      "outputs": [
        {
          "output_type": "execute_result",
          "data": {
            "text/plain": "'aaa,bb,ccccc,dddd'"
          },
          "metadata": {},
          "execution_count": 59
        }
      ],
      "source": [
        "line = line.rstrip()  # Remove whitespace characters on the right side\n",
        "line"
      ]
    },
    {
      "cell_type": "code",
      "execution_count": 58,
      "metadata": {},
      "outputs": [
        {
          "output_type": "execute_result",
          "data": {
            "text/plain": "'Sujith is a bad boy'"
          },
          "metadata": {},
          "execution_count": 58
        }
      ],
      "source": [
        "'%s is a %s' %(S, 'bad boy')  # Formatting expression (all)"
      ]
    },
    {
      "cell_type": "code",
      "execution_count": 60,
      "metadata": {},
      "outputs": [
        {
          "output_type": "execute_result",
          "data": {
            "text/plain": "'Sujith is a badboy'"
          },
          "metadata": {},
          "execution_count": 60
        }
      ],
      "source": [
        "'{0} is a {1}'.format(S, 'badboy')"
      ]
    },
    {
      "cell_type": "code",
      "execution_count": 61,
      "metadata": {},
      "outputs": [
        {
          "output_type": "execute_result",
          "data": {
            "text/plain": "['__add__',\n '__class__',\n '__contains__',\n '__delattr__',\n '__dir__',\n '__doc__',\n '__eq__',\n '__format__',\n '__ge__',\n '__getattribute__',\n '__getitem__',\n '__getnewargs__',\n '__gt__',\n '__hash__',\n '__init__',\n '__init_subclass__',\n '__iter__',\n '__le__',\n '__len__',\n '__lt__',\n '__mod__',\n '__mul__',\n '__ne__',\n '__new__',\n '__reduce__',\n '__reduce_ex__',\n '__repr__',\n '__rmod__',\n '__rmul__',\n '__setattr__',\n '__sizeof__',\n '__str__',\n '__subclasshook__',\n 'capitalize',\n 'casefold',\n 'center',\n 'count',\n 'encode',\n 'endswith',\n 'expandtabs',\n 'find',\n 'format',\n 'format_map',\n 'index',\n 'isalnum',\n 'isalpha',\n 'isascii',\n 'isdecimal',\n 'isdigit',\n 'isidentifier',\n 'islower',\n 'isnumeric',\n 'isprintable',\n 'isspace',\n 'istitle',\n 'isupper',\n 'join',\n 'ljust',\n 'lower',\n 'lstrip',\n 'maketrans',\n 'partition',\n 'replace',\n 'rfind',\n 'rindex',\n 'rjust',\n 'rpartition',\n 'rsplit',\n 'rstrip',\n 'split',\n 'splitlines',\n 'startswith',\n 'strip',\n 'swapcase',\n 'title',\n 'translate',\n 'upper',\n 'zfill']"
          },
          "metadata": {},
          "execution_count": 61
        }
      ],
      "source": [
        "dir(S)"
      ]
    },
    {
      "cell_type": "code",
      "execution_count": 62,
      "metadata": {},
      "outputs": [
        {
          "output_type": "stream",
          "text": "\u001b[1;31mSignature:\u001b[0m \u001b[0mS\u001b[0m\u001b[1;33m.\u001b[0m\u001b[0mreplace\u001b[0m\u001b[1;33m(\u001b[0m\u001b[0mold\u001b[0m\u001b[1;33m,\u001b[0m \u001b[0mnew\u001b[0m\u001b[1;33m,\u001b[0m \u001b[0mcount\u001b[0m\u001b[1;33m=\u001b[0m\u001b[1;33m-\u001b[0m\u001b[1;36m1\u001b[0m\u001b[1;33m,\u001b[0m \u001b[1;33m/\u001b[0m\u001b[1;33m)\u001b[0m\u001b[1;33m\u001b[0m\u001b[1;33m\u001b[0m\u001b[0m\n\u001b[1;31mDocstring:\u001b[0m\nReturn a copy with all occurrences of substring old replaced by new.\n\n  count\n    Maximum number of occurrences to replace.\n    -1 (the default value) means replace all occurrences.\n\nIf the optional argument count is given, only the first count occurrences are\nreplaced.\n\u001b[1;31mType:\u001b[0m      builtin_function_or_method\n"
        }
      ],
      "source": [
        "S.replace?"
      ]
    },
    {
      "cell_type": "code",
      "execution_count": 63,
      "metadata": {
        "tags": []
      },
      "outputs": [
        {
          "output_type": "stream",
          "name": "stdout",
          "text": "Help on built-in function replace:\n\nreplace(old, new, count=-1, /) method of builtins.str instance\n    Return a copy with all occurrences of substring old replaced by new.\n    \n      count\n        Maximum number of occurrences to replace.\n        -1 (the default value) means replace all occurrences.\n    \n    If the optional argument count is given, only the first count occurrences are\n    replaced.\n\n"
        }
      ],
      "source": [
        "help(S.replace)"
      ]
    },
    {
      "cell_type": "code",
      "execution_count": 65,
      "metadata": {},
      "outputs": [],
      "source": [
        "S = 'Sujith\\tReddy\\nBITS PILANI'  # \\n is end-of-line, \\t is tab"
      ]
    },
    {
      "cell_type": "code",
      "execution_count": 67,
      "metadata": {
        "tags": []
      },
      "outputs": [
        {
          "output_type": "stream",
          "name": "stdout",
          "text": "Sujith\tReddy\nBITS PILANI\n"
        }
      ],
      "source": [
        "print(S)"
      ]
    },
    {
      "cell_type": "code",
      "execution_count": 68,
      "metadata": {},
      "outputs": [
        {
          "output_type": "execute_result",
          "data": {
            "text/plain": "'Sujith\\tReddy\\nBITS PILANI'"
          },
          "metadata": {},
          "execution_count": 68
        }
      ],
      "source": [
        "S"
      ]
    },
    {
      "cell_type": "code",
      "execution_count": 69,
      "metadata": {},
      "outputs": [],
      "source": [
        "import re"
      ]
    },
    {
      "cell_type": "code",
      "execution_count": 75,
      "metadata": {},
      "outputs": [],
      "source": [
        "match = re.match('Hello[\\t]*(.*)world', 'Hello  Python world')"
      ]
    },
    {
      "cell_type": "code",
      "execution_count": 76,
      "metadata": {},
      "outputs": [
        {
          "output_type": "execute_result",
          "data": {
            "text/plain": "'  Python '"
          },
          "metadata": {},
          "execution_count": 76
        }
      ],
      "source": [
        "match.group(1)"
      ]
    },
    {
      "cell_type": "code",
      "execution_count": 78,
      "metadata": {},
      "outputs": [
        {
          "output_type": "execute_result",
          "data": {
            "text/plain": "('user', 'home', 'msujithr')"
          },
          "metadata": {},
          "execution_count": 78
        }
      ],
      "source": [
        "match = re.match('/(.*)/(.*)/(.*)', '/user/home/msujithr')\n",
        "match.groups()"
      ]
    }
  ]
}