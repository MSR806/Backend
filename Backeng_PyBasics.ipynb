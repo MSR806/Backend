{
  "nbformat": 4,
  "nbformat_minor": 0,
  "metadata": {
    "colab": {
      "name": "Backeng_PyBasics.ipynb",
      "provenance": [],
      "include_colab_link": true
    },
    "kernelspec": {
      "name": "python_defaultSpec_1596472445134",
      "display_name": "Python 3.8.3 32-bit"
    }
  },
  "cells": [
    {
      "cell_type": "markdown",
      "metadata": {
        "id": "view-in-github",
        "colab_type": "text"
      },
      "source": [
        "<a href=\"https://colab.research.google.com/github/MSR806/Backend/blob/master/Backeng_PyBasics.ipynb\" target=\"_parent\"><img src=\"https://colab.research.google.com/assets/colab-badge.svg\" alt=\"Open In Colab\"/></a>"
      ]
    },
    {
      "cell_type": "markdown",
      "metadata": {
        "id": "pZF_u94bulbt",
        "colab_type": "text"
      },
      "source": [
        "#Numbers"
      ]
    },
    {
      "cell_type": "code",
      "metadata": {
        "id": "Yu3z61sUudia",
        "colab_type": "code",
        "colab": {
          "base_uri": "https://localhost:8080/",
          "height": 35
        },
        "outputId": "5f305fef-c664-4dfc-aa8e-7f8bf7c76ea5"
      },
      "source": [
        "123+1222"
      ],
      "execution_count": null,
      "outputs": [
        {
          "output_type": "execute_result",
          "data": {
            "text/plain": [
              "1345"
            ]
          },
          "metadata": {
            "tags": []
          },
          "execution_count": 2
        }
      ]
    },
    {
      "cell_type": "code",
      "metadata": {
        "id": "9SFqhHNiuqOt",
        "colab_type": "code",
        "colab": {
          "base_uri": "https://localhost:8080/",
          "height": 35
        },
        "outputId": "063f8d4e-14fa-447c-c7b8-340346778b6e"
      },
      "source": [
        "1.6*4"
      ],
      "execution_count": null,
      "outputs": [
        {
          "output_type": "execute_result",
          "data": {
            "text/plain": [
              "6.4"
            ]
          },
          "metadata": {
            "tags": []
          },
          "execution_count": 3
        }
      ]
    },
    {
      "cell_type": "code",
      "metadata": {
        "id": "lwIVaewLurQM",
        "colab_type": "code",
        "colab": {
          "base_uri": "https://localhost:8080/",
          "height": 35
        },
        "outputId": "d59288fe-23cd-4b16-9805-153096fdd0d4"
      },
      "source": [
        "2**100"
      ],
      "execution_count": null,
      "outputs": [
        {
          "output_type": "execute_result",
          "data": {
            "text/plain": [
              "1267650600228229401496703205376"
            ]
          },
          "metadata": {
            "tags": []
          },
          "execution_count": 4
        }
      ]
    },
    {
      "cell_type": "code",
      "metadata": {
        "id": "pMHS2TRLutMr",
        "colab_type": "code",
        "colab": {
          "base_uri": "https://localhost:8080/",
          "height": 35
        },
        "outputId": "144b77d7-57fa-4626-b5e4-fc8f67a49da1"
      },
      "source": [
        "len(str(2**10000))"
      ],
      "execution_count": null,
      "outputs": [
        {
          "output_type": "execute_result",
          "data": {
            "text/plain": [
              "3011"
            ]
          },
          "metadata": {
            "tags": []
          },
          "execution_count": 5
        }
      ]
    },
    {
      "cell_type": "code",
      "metadata": {
        "id": "RiAUl-4LuwUL",
        "colab_type": "code",
        "tags": [],
        "colab": {
          "base_uri": "https://localhost:8080/",
          "height": 35
        },
        "outputId": "1b1e5211-2c1e-423c-e23f-9b8456a71d79"
      },
      "source": [
        "print(3.1415*2)"
      ],
      "execution_count": null,
      "outputs": [
        {
          "output_type": "stream",
          "text": [
            "6.283\n"
          ],
          "name": "stdout"
        }
      ]
    },
    {
      "cell_type": "code",
      "metadata": {
        "id": "Zl9FbVZ5u1gb",
        "colab_type": "code",
        "tags": [],
        "colab": {
          "base_uri": "https://localhost:8080/",
          "height": 54
        },
        "outputId": "01cbb5d1-327c-401a-ca2b-c9a6e3387aaa"
      },
      "source": [
        "import math\n",
        "print(math.pi)\n",
        "print(math.sqrt(85))"
      ],
      "execution_count": null,
      "outputs": [
        {
          "output_type": "stream",
          "text": [
            "3.141592653589793\n",
            "9.219544457292887\n"
          ],
          "name": "stdout"
        }
      ]
    },
    {
      "cell_type": "code",
      "metadata": {
        "id": "wz1vbWbmvCek",
        "colab_type": "code",
        "colab": {
          "base_uri": "https://localhost:8080/",
          "height": 35
        },
        "outputId": "197222a0-867d-420f-9582-69a50357467f"
      },
      "source": [
        "import random\n",
        "random.random()"
      ],
      "execution_count": null,
      "outputs": [
        {
          "output_type": "execute_result",
          "data": {
            "text/plain": [
              "0.9224082095331853"
            ]
          },
          "metadata": {
            "tags": []
          },
          "execution_count": 8
        }
      ]
    },
    {
      "cell_type": "code",
      "metadata": {
        "id": "X753-do9vO47",
        "colab_type": "code",
        "colab": {
          "base_uri": "https://localhost:8080/",
          "height": 35
        },
        "outputId": "afbe5101-e416-465c-8d18-cbc119b636e4"
      },
      "source": [
        "random.choice([1, 2, 3, 4])"
      ],
      "execution_count": null,
      "outputs": [
        {
          "output_type": "execute_result",
          "data": {
            "text/plain": [
              "1"
            ]
          },
          "metadata": {
            "tags": []
          },
          "execution_count": 9
        }
      ]
    },
    {
      "cell_type": "markdown",
      "metadata": {
        "id": "uX7tJ_iXvfTc",
        "colab_type": "text"
      },
      "source": [
        "#Strings"
      ]
    },
    {
      "cell_type": "code",
      "metadata": {
        "id": "ggff0ROXvUEy",
        "colab_type": "code",
        "colab": {}
      },
      "source": [
        "S = 'Sujith'"
      ],
      "execution_count": null,
      "outputs": []
    },
    {
      "cell_type": "code",
      "metadata": {
        "id": "Wzje1DUmvkRr",
        "colab_type": "code",
        "colab": {
          "base_uri": "https://localhost:8080/",
          "height": 35
        },
        "outputId": "0d102d61-6d59-4a49-cf04-df969d90aa9c"
      },
      "source": [
        "len(S)"
      ],
      "execution_count": null,
      "outputs": [
        {
          "output_type": "execute_result",
          "data": {
            "text/plain": [
              "6"
            ]
          },
          "metadata": {
            "tags": []
          },
          "execution_count": 11
        }
      ]
    },
    {
      "cell_type": "code",
      "metadata": {
        "id": "DZUC8eWMvlJ_",
        "colab_type": "code",
        "colab": {
          "base_uri": "https://localhost:8080/",
          "height": 35
        },
        "outputId": "fa56881f-5c51-43f5-cf34-cf103c592c63"
      },
      "source": [
        "S[0]"
      ],
      "execution_count": null,
      "outputs": [
        {
          "output_type": "execute_result",
          "data": {
            "text/plain": [
              "'S'"
            ]
          },
          "metadata": {
            "tags": []
          },
          "execution_count": 12
        }
      ]
    },
    {
      "cell_type": "code",
      "metadata": {
        "id": "0qeIqr-Qvogr",
        "colab_type": "code",
        "colab": {
          "base_uri": "https://localhost:8080/",
          "height": 35
        },
        "outputId": "501e03a8-c1d3-4b7b-9b8a-f77d078e03ae"
      },
      "source": [
        "S[-1]"
      ],
      "execution_count": null,
      "outputs": [
        {
          "output_type": "execute_result",
          "data": {
            "text/plain": [
              "'h'"
            ]
          },
          "metadata": {
            "tags": []
          },
          "execution_count": 13
        }
      ]
    },
    {
      "cell_type": "code",
      "metadata": {
        "id": "U2qtM7cgvs2S",
        "colab_type": "code",
        "colab": {
          "base_uri": "https://localhost:8080/",
          "height": 35
        },
        "outputId": "e636cdd5-4c23-44c5-a0f5-ab14b2ca56c5"
      },
      "source": [
        "S[-2]"
      ],
      "execution_count": null,
      "outputs": [
        {
          "output_type": "execute_result",
          "data": {
            "text/plain": [
              "'t'"
            ]
          },
          "metadata": {
            "tags": []
          },
          "execution_count": 14
        }
      ]
    },
    {
      "cell_type": "code",
      "metadata": {
        "id": "zLjGZZf4vvT7",
        "colab_type": "code",
        "colab": {
          "base_uri": "https://localhost:8080/",
          "height": 35
        },
        "outputId": "b30c2790-20c9-4fee-a02c-c9a969bb1f94"
      },
      "source": [
        "S[len(S)-2]"
      ],
      "execution_count": null,
      "outputs": [
        {
          "output_type": "execute_result",
          "data": {
            "text/plain": [
              "'t'"
            ]
          },
          "metadata": {
            "tags": []
          },
          "execution_count": 15
        }
      ]
    },
    {
      "cell_type": "code",
      "metadata": {
        "id": "7ZD63842v8tz",
        "colab_type": "code",
        "colab": {
          "base_uri": "https://localhost:8080/",
          "height": 35
        },
        "outputId": "254c503c-1f9b-4727-e4b7-9deacddedda7"
      },
      "source": [
        "S"
      ],
      "execution_count": null,
      "outputs": [
        {
          "output_type": "execute_result",
          "data": {
            "text/plain": [
              "'Sujith'"
            ]
          },
          "metadata": {
            "tags": []
          },
          "execution_count": 16
        }
      ]
    },
    {
      "cell_type": "code",
      "metadata": {
        "id": "hz7Azyhxv_A7",
        "colab_type": "code",
        "colab": {
          "base_uri": "https://localhost:8080/",
          "height": 35
        },
        "outputId": "b1dd4845-dce1-4eab-80e2-82f30c11c10d"
      },
      "source": [
        "S[1:3]"
      ],
      "execution_count": null,
      "outputs": [
        {
          "output_type": "execute_result",
          "data": {
            "text/plain": [
              "'uj'"
            ]
          },
          "metadata": {
            "tags": []
          },
          "execution_count": 17
        }
      ]
    },
    {
      "cell_type": "code",
      "metadata": {
        "id": "m8XZJ-gqwBq7",
        "colab_type": "code",
        "colab": {
          "base_uri": "https://localhost:8080/",
          "height": 35
        },
        "outputId": "fbe70c85-c592-47d6-c4d6-816f6338ca02"
      },
      "source": [
        "S[1:]  # Everything past the first (1:len(S))"
      ],
      "execution_count": null,
      "outputs": [
        {
          "output_type": "execute_result",
          "data": {
            "text/plain": [
              "'ujith'"
            ]
          },
          "metadata": {
            "tags": []
          },
          "execution_count": 18
        }
      ]
    },
    {
      "cell_type": "code",
      "metadata": {
        "id": "pIeHK1P4wEPD",
        "colab_type": "code",
        "colab": {
          "base_uri": "https://localhost:8080/",
          "height": 35
        },
        "outputId": "4f22b6e8-2f36-4961-949b-a859a09f4821"
      },
      "source": [
        "S[0:3]  # Everything but the last"
      ],
      "execution_count": null,
      "outputs": [
        {
          "output_type": "execute_result",
          "data": {
            "text/plain": [
              "'Suj'"
            ]
          },
          "metadata": {
            "tags": []
          },
          "execution_count": 19
        }
      ]
    },
    {
      "cell_type": "code",
      "metadata": {
        "id": "t3BofTNawGWD",
        "colab_type": "code",
        "colab": {
          "base_uri": "https://localhost:8080/",
          "height": 35
        },
        "outputId": "bb99dc7a-5a25-4729-bf66-1ad10a2068a7"
      },
      "source": [
        "S[:3]  # Everything but the last"
      ],
      "execution_count": null,
      "outputs": [
        {
          "output_type": "execute_result",
          "data": {
            "text/plain": [
              "'Suj'"
            ]
          },
          "metadata": {
            "tags": []
          },
          "execution_count": 20
        }
      ]
    },
    {
      "cell_type": "code",
      "metadata": {
        "id": "iWTKS35-wK3K",
        "colab_type": "code",
        "colab": {
          "base_uri": "https://localhost:8080/",
          "height": 35
        },
        "outputId": "5255d9ca-f66c-4f2e-e8e2-c6570818d652"
      },
      "source": [
        "S[:-1]  # Everything but the last again, but simpler (0:-1)"
      ],
      "execution_count": null,
      "outputs": [
        {
          "output_type": "execute_result",
          "data": {
            "text/plain": [
              "'Sujit'"
            ]
          },
          "metadata": {
            "tags": []
          },
          "execution_count": 21
        }
      ]
    },
    {
      "cell_type": "code",
      "metadata": {
        "id": "CHMSMLlEwRca",
        "colab_type": "code",
        "colab": {
          "base_uri": "https://localhost:8080/",
          "height": 35
        },
        "outputId": "610ec6a7-4fc2-4953-bed4-45a398840d6f"
      },
      "source": [
        "S[:]  # All of S as a top-level copy (0:len(S))\n",
        "'"
      ],
      "execution_count": null,
      "outputs": [
        {
          "output_type": "error",
          "ename": "SyntaxError",
          "evalue": "EOL while scanning string literal (<ipython-input-22-37ee81272fca>, line 2)",
          "traceback": [
            "\u001b[1;36m  File \u001b[1;32m\"<ipython-input-22-37ee81272fca>\"\u001b[1;36m, line \u001b[1;32m2\u001b[0m\n\u001b[1;33m    '\u001b[0m\n\u001b[1;37m     ^\u001b[0m\n\u001b[1;31mSyntaxError\u001b[0m\u001b[1;31m:\u001b[0m EOL while scanning string literal\n"
          ]
        }
      ]
    },
    {
      "cell_type": "code",
      "metadata": {
        "id": "jrALnc2DwW0y",
        "colab_type": "code",
        "colab": {
          "base_uri": "https://localhost:8080/",
          "height": 35
        },
        "outputId": "44150095-201a-4922-bf3c-dfc01757321c"
      },
      "source": [
        "S +' Reddy'  #Concatenation"
      ],
      "execution_count": null,
      "outputs": [
        {
          "output_type": "execute_result",
          "data": {
            "text/plain": [
              "'Sujith Reddy'"
            ]
          },
          "metadata": {
            "tags": []
          },
          "execution_count": 23
        }
      ]
    },
    {
      "cell_type": "code",
      "metadata": {
        "id": "8Xjvsb6Gwavy",
        "colab_type": "code",
        "colab": {
          "base_uri": "https://localhost:8080/",
          "height": 35
        },
        "outputId": "bb39d097-e3be-4ac5-9dea-6bb56a800359"
      },
      "source": [
        "S  # S is unchanged"
      ],
      "execution_count": null,
      "outputs": [
        {
          "output_type": "execute_result",
          "data": {
            "text/plain": [
              "'Sujith'"
            ]
          },
          "metadata": {
            "tags": []
          },
          "execution_count": 24
        }
      ]
    },
    {
      "cell_type": "code",
      "metadata": {
        "id": "PzN0VnfnwfUy",
        "colab_type": "code",
        "colab": {
          "base_uri": "https://localhost:8080/",
          "height": 35
        },
        "outputId": "7ef7aee1-bb06-43df-97e3-d3e9571c43b6"
      },
      "source": [
        "S*5 #Repetition"
      ],
      "execution_count": null,
      "outputs": [
        {
          "output_type": "execute_result",
          "data": {
            "text/plain": [
              "'SujithSujithSujithSujithSujith'"
            ]
          },
          "metadata": {
            "tags": []
          },
          "execution_count": 25
        }
      ]
    },
    {
      "cell_type": "code",
      "metadata": {
        "id": "AURH1OWtwg0j",
        "colab_type": "code",
        "colab": {
          "base_uri": "https://localhost:8080/",
          "height": 171
        },
        "outputId": "6641b7e4-0e15-40f3-b54a-4659503a2607"
      },
      "source": [
        "S[0] = 'A'  # Immutable(unchangeable) objects cannot be changed"
      ],
      "execution_count": null,
      "outputs": [
        {
          "output_type": "error",
          "ename": "TypeError",
          "evalue": "'str' object does not support item assignment",
          "traceback": [
            "\u001b[1;31m---------------------------------------------------------------------------\u001b[0m",
            "\u001b[1;31mTypeError\u001b[0m                                 Traceback (most recent call last)",
            "\u001b[1;32m<ipython-input-26-bad5284f331b>\u001b[0m in \u001b[0;36m<module>\u001b[1;34m\u001b[0m\n\u001b[1;32m----> 1\u001b[1;33m \u001b[0mS\u001b[0m\u001b[1;33m[\u001b[0m\u001b[1;36m0\u001b[0m\u001b[1;33m]\u001b[0m \u001b[1;33m=\u001b[0m \u001b[1;34m'A'\u001b[0m  \u001b[1;31m# Immutable(unchangeable) objects cannot be changed\u001b[0m\u001b[1;33m\u001b[0m\u001b[1;33m\u001b[0m\u001b[0m\n\u001b[0m",
            "\u001b[1;31mTypeError\u001b[0m: 'str' object does not support item assignment"
          ]
        }
      ]
    },
    {
      "cell_type": "code",
      "metadata": {
        "id": "JD8SWh0XxlOC",
        "colab_type": "code",
        "colab": {}
      },
      "source": [
        "S = 'A' + S[1:]  # But we can run expressions to make new objects"
      ],
      "execution_count": null,
      "outputs": []
    },
    {
      "cell_type": "code",
      "metadata": {
        "id": "HaRKBLWbx4VT",
        "colab_type": "code",
        "colab": {
          "base_uri": "https://localhost:8080/",
          "height": 35
        },
        "outputId": "c377a3fc-c059-48f7-d94d-54adc3c99c78"
      },
      "source": [
        "S"
      ],
      "execution_count": null,
      "outputs": [
        {
          "output_type": "execute_result",
          "data": {
            "text/plain": [
              "'Aujith'"
            ]
          },
          "metadata": {
            "tags": []
          },
          "execution_count": 28
        }
      ]
    },
    {
      "cell_type": "code",
      "metadata": {
        "id": "AkWP7WFFCgcc",
        "colab_type": "code",
        "colab": {},
        "outputId": "44550374-d816-4c0a-c043-66461b9450c4"
      },
      "source": [
        "S.find('it')  # Find the offset of a substring"
      ],
      "execution_count": null,
      "outputs": [
        {
          "output_type": "execute_result",
          "data": {
            "text/plain": [
              "3"
            ]
          },
          "metadata": {
            "tags": []
          },
          "execution_count": 33
        }
      ]
    },
    {
      "cell_type": "code",
      "metadata": {
        "id": "AZZY0rJ7Cgcf",
        "colab_type": "code",
        "colab": {},
        "outputId": "546bf78d-da97-4bf9-c98a-ffd0719722a0"
      },
      "source": [
        "S.replace('A', 'S')  # Replace occurrences of a substring with another"
      ],
      "execution_count": null,
      "outputs": [
        {
          "output_type": "execute_result",
          "data": {
            "text/plain": [
              "'Sujith'"
            ]
          },
          "metadata": {
            "tags": []
          },
          "execution_count": 31
        }
      ]
    },
    {
      "cell_type": "code",
      "metadata": {
        "id": "j-lw7P_BCgch",
        "colab_type": "code",
        "colab": {},
        "outputId": "1265c9b7-9d9d-4ac9-ea2c-1a0fb0c172ab"
      },
      "source": [
        "S  #again the main string is not altered"
      ],
      "execution_count": null,
      "outputs": [
        {
          "output_type": "execute_result",
          "data": {
            "text/plain": [
              "'Aujith'"
            ]
          },
          "metadata": {
            "tags": []
          },
          "execution_count": 34
        }
      ]
    },
    {
      "cell_type": "code",
      "metadata": {
        "id": "tE2A0h8QCgcl",
        "colab_type": "code",
        "colab": {}
      },
      "source": [
        "line = 'aaa,bb,ccccc,dddd'"
      ],
      "execution_count": null,
      "outputs": []
    },
    {
      "cell_type": "code",
      "metadata": {
        "id": "crMHM0kVCgco",
        "colab_type": "code",
        "colab": {},
        "outputId": "d4e314e5-ef84-4813-ee45-1bd1e7db016e"
      },
      "source": [
        "line.split(',')  #Split on a delimiter into a list of substrings"
      ],
      "execution_count": null,
      "outputs": [
        {
          "output_type": "execute_result",
          "data": {
            "text/plain": [
              "['aaa', 'bb', 'ccccc', 'dddd\\n']"
            ]
          },
          "metadata": {
            "tags": []
          },
          "execution_count": 48
        }
      ]
    },
    {
      "cell_type": "code",
      "metadata": {
        "id": "Dk5Fc64ECgcq",
        "colab_type": "code",
        "colab": {}
      },
      "source": [
        "S = 'S' + S[1:]"
      ],
      "execution_count": null,
      "outputs": []
    },
    {
      "cell_type": "code",
      "metadata": {
        "id": "qQQg547tCgcu",
        "colab_type": "code",
        "colab": {},
        "outputId": "bad2bc97-e1ec-45fe-fab0-584264d32026"
      },
      "source": [
        "S"
      ],
      "execution_count": null,
      "outputs": [
        {
          "output_type": "execute_result",
          "data": {
            "text/plain": [
              "'Sujith'"
            ]
          },
          "metadata": {
            "tags": []
          },
          "execution_count": 50
        }
      ]
    },
    {
      "cell_type": "code",
      "metadata": {
        "id": "uOURN0KICgcx",
        "colab_type": "code",
        "colab": {},
        "outputId": "171614e2-e0b5-46e4-d7b8-8dfaa40f49c7"
      },
      "source": [
        "S.upper()  # Upper- and lowercase conversions"
      ],
      "execution_count": null,
      "outputs": [
        {
          "output_type": "execute_result",
          "data": {
            "text/plain": [
              "'SUJITH'"
            ]
          },
          "metadata": {
            "tags": []
          },
          "execution_count": 51
        }
      ]
    },
    {
      "cell_type": "code",
      "metadata": {
        "id": "xtvOSUlVCgc0",
        "colab_type": "code",
        "colab": {},
        "outputId": "d401ccae-64ad-4cd4-8337-546396ae91e2"
      },
      "source": [
        "S.isalpha()  # Content tests: isalpha, isdigit, etc."
      ],
      "execution_count": null,
      "outputs": [
        {
          "output_type": "execute_result",
          "data": {
            "text/plain": [
              "True"
            ]
          },
          "metadata": {
            "tags": []
          },
          "execution_count": 52
        }
      ]
    },
    {
      "cell_type": "code",
      "metadata": {
        "id": "2q174e7NCgc2",
        "colab_type": "code",
        "colab": {}
      },
      "source": [
        "line = line + '\\n'"
      ],
      "execution_count": null,
      "outputs": []
    },
    {
      "cell_type": "code",
      "metadata": {
        "id": "eVgm0NW_Cgc5",
        "colab_type": "code",
        "colab": {},
        "outputId": "e98e9b23-d647-49dd-97f6-f45ab5000760"
      },
      "source": [
        "line"
      ],
      "execution_count": null,
      "outputs": [
        {
          "output_type": "execute_result",
          "data": {
            "text/plain": [
              "'aaa,bb,ccccc,dddd\\n\\n'"
            ]
          },
          "metadata": {
            "tags": []
          },
          "execution_count": 54
        }
      ]
    },
    {
      "cell_type": "code",
      "metadata": {
        "id": "2MIqw68iCgc8",
        "colab_type": "code",
        "colab": {},
        "outputId": "db1c6fab-2ad7-439a-b089-7d62ad01fc1c"
      },
      "source": [
        "line = line.rstrip()  # Remove whitespace characters on the right side\n",
        "line"
      ],
      "execution_count": null,
      "outputs": [
        {
          "output_type": "execute_result",
          "data": {
            "text/plain": [
              "'aaa,bb,ccccc,dddd'"
            ]
          },
          "metadata": {
            "tags": []
          },
          "execution_count": 59
        }
      ]
    },
    {
      "cell_type": "code",
      "metadata": {
        "id": "6KgDwxvdCgc_",
        "colab_type": "code",
        "colab": {},
        "outputId": "115912d9-d8f3-4225-aa02-02630dc2d141"
      },
      "source": [
        "'%s is a %s' %(S, 'bad boy')  # Formatting expression (all)"
      ],
      "execution_count": null,
      "outputs": [
        {
          "output_type": "execute_result",
          "data": {
            "text/plain": [
              "'Sujith is a bad boy'"
            ]
          },
          "metadata": {
            "tags": []
          },
          "execution_count": 58
        }
      ]
    },
    {
      "cell_type": "code",
      "metadata": {
        "id": "OdLGqvSzCgdC",
        "colab_type": "code",
        "colab": {},
        "outputId": "c1178798-1d4f-453e-d81a-4970dd12aa8c"
      },
      "source": [
        "'{0} is a {1}'.format(S, 'badboy')"
      ],
      "execution_count": null,
      "outputs": [
        {
          "output_type": "execute_result",
          "data": {
            "text/plain": [
              "'Sujith is a badboy'"
            ]
          },
          "metadata": {
            "tags": []
          },
          "execution_count": 60
        }
      ]
    },
    {
      "cell_type": "code",
      "metadata": {
        "id": "XPvuJ6xACgdI",
        "colab_type": "code",
        "colab": {},
        "outputId": "57081133-c8a8-4837-a950-076ef76d1f96"
      },
      "source": [
        "dir(S)"
      ],
      "execution_count": null,
      "outputs": [
        {
          "output_type": "execute_result",
          "data": {
            "text/plain": [
              "['__add__',\n",
              " '__class__',\n",
              " '__contains__',\n",
              " '__delattr__',\n",
              " '__dir__',\n",
              " '__doc__',\n",
              " '__eq__',\n",
              " '__format__',\n",
              " '__ge__',\n",
              " '__getattribute__',\n",
              " '__getitem__',\n",
              " '__getnewargs__',\n",
              " '__gt__',\n",
              " '__hash__',\n",
              " '__init__',\n",
              " '__init_subclass__',\n",
              " '__iter__',\n",
              " '__le__',\n",
              " '__len__',\n",
              " '__lt__',\n",
              " '__mod__',\n",
              " '__mul__',\n",
              " '__ne__',\n",
              " '__new__',\n",
              " '__reduce__',\n",
              " '__reduce_ex__',\n",
              " '__repr__',\n",
              " '__rmod__',\n",
              " '__rmul__',\n",
              " '__setattr__',\n",
              " '__sizeof__',\n",
              " '__str__',\n",
              " '__subclasshook__',\n",
              " 'capitalize',\n",
              " 'casefold',\n",
              " 'center',\n",
              " 'count',\n",
              " 'encode',\n",
              " 'endswith',\n",
              " 'expandtabs',\n",
              " 'find',\n",
              " 'format',\n",
              " 'format_map',\n",
              " 'index',\n",
              " 'isalnum',\n",
              " 'isalpha',\n",
              " 'isascii',\n",
              " 'isdecimal',\n",
              " 'isdigit',\n",
              " 'isidentifier',\n",
              " 'islower',\n",
              " 'isnumeric',\n",
              " 'isprintable',\n",
              " 'isspace',\n",
              " 'istitle',\n",
              " 'isupper',\n",
              " 'join',\n",
              " 'ljust',\n",
              " 'lower',\n",
              " 'lstrip',\n",
              " 'maketrans',\n",
              " 'partition',\n",
              " 'replace',\n",
              " 'rfind',\n",
              " 'rindex',\n",
              " 'rjust',\n",
              " 'rpartition',\n",
              " 'rsplit',\n",
              " 'rstrip',\n",
              " 'split',\n",
              " 'splitlines',\n",
              " 'startswith',\n",
              " 'strip',\n",
              " 'swapcase',\n",
              " 'title',\n",
              " 'translate',\n",
              " 'upper',\n",
              " 'zfill']"
            ]
          },
          "metadata": {
            "tags": []
          },
          "execution_count": 61
        }
      ]
    },
    {
      "cell_type": "code",
      "metadata": {
        "id": "vAULuFt3CgdL",
        "colab_type": "code",
        "colab": {},
        "outputId": "12579123-7067-4e0d-cf27-09700c2dacc2"
      },
      "source": [
        "S.replace?"
      ],
      "execution_count": null,
      "outputs": [
        {
          "output_type": "stream",
          "text": [
            "\u001b[1;31mSignature:\u001b[0m \u001b[0mS\u001b[0m\u001b[1;33m.\u001b[0m\u001b[0mreplace\u001b[0m\u001b[1;33m(\u001b[0m\u001b[0mold\u001b[0m\u001b[1;33m,\u001b[0m \u001b[0mnew\u001b[0m\u001b[1;33m,\u001b[0m \u001b[0mcount\u001b[0m\u001b[1;33m=\u001b[0m\u001b[1;33m-\u001b[0m\u001b[1;36m1\u001b[0m\u001b[1;33m,\u001b[0m \u001b[1;33m/\u001b[0m\u001b[1;33m)\u001b[0m\u001b[1;33m\u001b[0m\u001b[1;33m\u001b[0m\u001b[0m\n",
            "\u001b[1;31mDocstring:\u001b[0m\n",
            "Return a copy with all occurrences of substring old replaced by new.\n",
            "\n",
            "  count\n",
            "    Maximum number of occurrences to replace.\n",
            "    -1 (the default value) means replace all occurrences.\n",
            "\n",
            "If the optional argument count is given, only the first count occurrences are\n",
            "replaced.\n",
            "\u001b[1;31mType:\u001b[0m      builtin_function_or_method\n"
          ]
        }
      ]
    },
    {
      "cell_type": "code",
      "metadata": {
        "tags": [],
        "id": "r6DeAHmhCgdO",
        "colab_type": "code",
        "colab": {},
        "outputId": "685fbecb-9ef0-461f-b8bc-8d6b2c8c8b6e"
      },
      "source": [
        "help(S.replace)"
      ],
      "execution_count": null,
      "outputs": [
        {
          "output_type": "stream",
          "text": [
            "Help on built-in function replace:\n",
            "\n",
            "replace(old, new, count=-1, /) method of builtins.str instance\n",
            "    Return a copy with all occurrences of substring old replaced by new.\n",
            "    \n",
            "      count\n",
            "        Maximum number of occurrences to replace.\n",
            "        -1 (the default value) means replace all occurrences.\n",
            "    \n",
            "    If the optional argument count is given, only the first count occurrences are\n",
            "    replaced.\n",
            "\n"
          ],
          "name": "stdout"
        }
      ]
    },
    {
      "cell_type": "code",
      "metadata": {
        "id": "UwsSjEweCgdR",
        "colab_type": "code",
        "colab": {}
      },
      "source": [
        "S = 'Sujith\\tReddy\\nBITS PILANI'  # \\n is end-of-line, \\t is tab"
      ],
      "execution_count": null,
      "outputs": []
    },
    {
      "cell_type": "code",
      "metadata": {
        "tags": [],
        "id": "eYQfIzAoCgdV",
        "colab_type": "code",
        "colab": {},
        "outputId": "a0a361c4-6a3c-46d2-9291-2de2383d5a99"
      },
      "source": [
        "print(S)"
      ],
      "execution_count": null,
      "outputs": [
        {
          "output_type": "stream",
          "text": [
            "Sujith\tReddy\n",
            "BITS PILANI\n"
          ],
          "name": "stdout"
        }
      ]
    },
    {
      "cell_type": "code",
      "metadata": {
        "id": "hgo1sHZdCgdY",
        "colab_type": "code",
        "colab": {},
        "outputId": "b95b133e-2a50-4470-fa07-807250549715"
      },
      "source": [
        "S"
      ],
      "execution_count": null,
      "outputs": [
        {
          "output_type": "execute_result",
          "data": {
            "text/plain": [
              "'Sujith\\tReddy\\nBITS PILANI'"
            ]
          },
          "metadata": {
            "tags": []
          },
          "execution_count": 68
        }
      ]
    },
    {
      "cell_type": "code",
      "metadata": {
        "id": "idSkqRYBCgdb",
        "colab_type": "code",
        "colab": {}
      },
      "source": [
        "import re"
      ],
      "execution_count": null,
      "outputs": []
    },
    {
      "cell_type": "code",
      "metadata": {
        "id": "rBv85zk_Cgde",
        "colab_type": "code",
        "colab": {}
      },
      "source": [
        "match = re.match('Hello[\\t]*(.*)world', 'Hello  Python world')"
      ],
      "execution_count": null,
      "outputs": []
    },
    {
      "cell_type": "code",
      "metadata": {
        "id": "UdP3Cn9KCgdh",
        "colab_type": "code",
        "colab": {},
        "outputId": "1c822092-6814-47e2-c8d4-2be44ab7b3af"
      },
      "source": [
        "match.group(1)"
      ],
      "execution_count": null,
      "outputs": [
        {
          "output_type": "execute_result",
          "data": {
            "text/plain": [
              "'  Python '"
            ]
          },
          "metadata": {
            "tags": []
          },
          "execution_count": 76
        }
      ]
    },
    {
      "cell_type": "code",
      "metadata": {
        "id": "AEEFv6ibCgdl",
        "colab_type": "code",
        "colab": {},
        "outputId": "51449c3e-c6f6-479e-8cbd-9a916a2030fe"
      },
      "source": [
        "match = re.match('/(.*)/(.*)/(.*)', '/user/home/msujithr')\n",
        "match.groups()"
      ],
      "execution_count": null,
      "outputs": [
        {
          "output_type": "execute_result",
          "data": {
            "text/plain": [
              "('user', 'home', 'msujithr')"
            ]
          },
          "metadata": {
            "tags": []
          },
          "execution_count": 78
        }
      ]
    },
    {
      "cell_type": "markdown",
      "metadata": {
        "id": "veA70Uk9CkVR",
        "colab_type": "text"
      },
      "source": [
        "#Lists"
      ]
    },
    {
      "cell_type": "code",
      "metadata": {
        "id": "VrRpxYFrCnXQ",
        "colab_type": "code",
        "colab": {}
      },
      "source": [
        "L = [123, 'Sujth', 1.34]        # A list of three different-type objects"
      ],
      "execution_count": null,
      "outputs": []
    },
    {
      "cell_type": "code",
      "metadata": {
        "id": "1bEcGRdnUo6R",
        "colab_type": "code",
        "colab": {},
        "outputId": "993a361e-8ac9-4bcb-fb24-252ca033c561"
      },
      "source": [
        "len(L)"
      ],
      "execution_count": null,
      "outputs": [
        {
          "output_type": "execute_result",
          "data": {
            "text/plain": [
              "3"
            ]
          },
          "metadata": {
            "tags": []
          },
          "execution_count": 2
        }
      ]
    },
    {
      "cell_type": "code",
      "metadata": {
        "id": "fp5OTyQYUo6U",
        "colab_type": "code",
        "colab": {},
        "outputId": "a1e73d2c-56ec-4ee2-d29f-2427c3bcb2cd"
      },
      "source": [
        "L[0]"
      ],
      "execution_count": null,
      "outputs": [
        {
          "output_type": "execute_result",
          "data": {
            "text/plain": [
              "123"
            ]
          },
          "metadata": {
            "tags": []
          },
          "execution_count": 3
        }
      ]
    },
    {
      "cell_type": "code",
      "metadata": {
        "id": "0PsaVZBiUo6X",
        "colab_type": "code",
        "colab": {},
        "outputId": "2e02b954-1290-40ca-8532-2f609c64a556"
      },
      "source": [
        "L[:-1]"
      ],
      "execution_count": null,
      "outputs": [
        {
          "output_type": "execute_result",
          "data": {
            "text/plain": [
              "[123, 'Sujth']"
            ]
          },
          "metadata": {
            "tags": []
          },
          "execution_count": 4
        }
      ]
    },
    {
      "cell_type": "code",
      "metadata": {
        "id": "idAJBd8_Uo6a",
        "colab_type": "code",
        "colab": {},
        "outputId": "fe85c2a8-7d9f-4409-ec5f-5c0fe32f3512"
      },
      "source": [
        "L + [1,2,3]     # Concatenation makes a new list too"
      ],
      "execution_count": null,
      "outputs": [
        {
          "output_type": "execute_result",
          "data": {
            "text/plain": [
              "[123, 'Sujth', 1.34, 1, 2, 3]"
            ]
          },
          "metadata": {
            "tags": []
          },
          "execution_count": 5
        }
      ]
    },
    {
      "cell_type": "code",
      "metadata": {
        "id": "2dd2qCpYUo6c",
        "colab_type": "code",
        "colab": {},
        "outputId": "4d8c82ea-0aa9-4165-d6d9-80b40e581953"
      },
      "source": [
        "L       # We're not changing the original list"
      ],
      "execution_count": null,
      "outputs": [
        {
          "output_type": "execute_result",
          "data": {
            "text/plain": [
              "[123, 'Sujth', 1.34]"
            ]
          },
          "metadata": {
            "tags": []
          },
          "execution_count": 8
        }
      ]
    },
    {
      "cell_type": "code",
      "metadata": {
        "id": "WF-yYn8OUo6e",
        "colab_type": "code",
        "colab": {},
        "outputId": "7e02a2d2-e244-40d7-bd9f-ffeb2a4520c5"
      },
      "source": [
        "L.append('Reddy')\n",
        "L"
      ],
      "execution_count": null,
      "outputs": [
        {
          "output_type": "execute_result",
          "data": {
            "text/plain": [
              "[123, 'Sujth', 1.34, 'Reddy']"
            ]
          },
          "metadata": {
            "tags": []
          },
          "execution_count": 9
        }
      ]
    },
    {
      "cell_type": "code",
      "metadata": {
        "id": "Uy8qjD3CUo6h",
        "colab_type": "code",
        "colab": {},
        "outputId": "f43da9f8-f174-4160-e177-5b35656ea680"
      },
      "source": [
        "L.pop(2)"
      ],
      "execution_count": null,
      "outputs": [
        {
          "output_type": "execute_result",
          "data": {
            "text/plain": [
              "1.34"
            ]
          },
          "metadata": {
            "tags": []
          },
          "execution_count": 10
        }
      ]
    },
    {
      "cell_type": "code",
      "metadata": {
        "id": "a-reb0EAUo6l",
        "colab_type": "code",
        "colab": {},
        "outputId": "5d07b4b3-7bdd-43ad-fee0-ef903a2849fe"
      },
      "source": [
        "L"
      ],
      "execution_count": null,
      "outputs": [
        {
          "output_type": "execute_result",
          "data": {
            "text/plain": [
              "[123, 'Sujth', 'Reddy']"
            ]
          },
          "metadata": {
            "tags": []
          },
          "execution_count": 11
        }
      ]
    },
    {
      "cell_type": "code",
      "metadata": {
        "id": "WVeq8SqDUo6n",
        "colab_type": "code",
        "colab": {},
        "outputId": "8d597482-8b1b-4c5b-b0fa-d4b12f7fae69"
      },
      "source": [
        "M = ['bb','cc','aa']\n",
        "M.sort()\n",
        "M"
      ],
      "execution_count": null,
      "outputs": [
        {
          "output_type": "execute_result",
          "data": {
            "text/plain": [
              "['aa', 'bb', 'cc']"
            ]
          },
          "metadata": {
            "tags": []
          },
          "execution_count": 20
        }
      ]
    },
    {
      "cell_type": "code",
      "metadata": {
        "id": "15eEu8FdUo6p",
        "colab_type": "code",
        "colab": {}
      },
      "source": [
        "M.reverse()"
      ],
      "execution_count": null,
      "outputs": []
    },
    {
      "cell_type": "code",
      "metadata": {
        "id": "jpWAKDkwUo6r",
        "colab_type": "code",
        "colab": {},
        "outputId": "1d12ebd7-8467-4ac9-fa05-323057dd21c1"
      },
      "source": [
        "M"
      ],
      "execution_count": null,
      "outputs": [
        {
          "output_type": "execute_result",
          "data": {
            "text/plain": [
              "['cc', 'bb', 'aa']"
            ]
          },
          "metadata": {
            "tags": []
          },
          "execution_count": 22
        }
      ]
    },
    {
      "cell_type": "code",
      "metadata": {
        "id": "eH0r2TW4Uo6t",
        "colab_type": "code",
        "colab": {},
        "outputId": "45407dc9-adbc-47d7-f211-c61e4232f93b"
      },
      "source": [
        "M[50]"
      ],
      "execution_count": null,
      "outputs": [
        {
          "output_type": "error",
          "ename": "IndexError",
          "evalue": "list index out of range",
          "traceback": [
            "\u001b[1;31m---------------------------------------------------------------------------\u001b[0m",
            "\u001b[1;31mIndexError\u001b[0m                                Traceback (most recent call last)",
            "\u001b[1;32m<ipython-input-23-bc29b9cfefd0>\u001b[0m in \u001b[0;36m<module>\u001b[1;34m\u001b[0m\n\u001b[1;32m----> 1\u001b[1;33m \u001b[0mM\u001b[0m\u001b[1;33m[\u001b[0m\u001b[1;36m50\u001b[0m\u001b[1;33m]\u001b[0m\u001b[1;33m\u001b[0m\u001b[1;33m\u001b[0m\u001b[0m\n\u001b[0m",
            "\u001b[1;31mIndexError\u001b[0m: list index out of range"
          ]
        }
      ]
    },
    {
      "cell_type": "code",
      "metadata": {
        "id": "vDxMO65UUo6v",
        "colab_type": "code",
        "colab": {},
        "outputId": "81029875-7d13-43a5-f4a9-038781bf6b5c"
      },
      "source": [
        "M[50] = 1"
      ],
      "execution_count": null,
      "outputs": [
        {
          "output_type": "error",
          "ename": "IndexError",
          "evalue": "list assignment index out of range",
          "traceback": [
            "\u001b[1;31m---------------------------------------------------------------------------\u001b[0m",
            "\u001b[1;31mIndexError\u001b[0m                                Traceback (most recent call last)",
            "\u001b[1;32m<ipython-input-24-683d6bf89b81>\u001b[0m in \u001b[0;36m<module>\u001b[1;34m\u001b[0m\n\u001b[1;32m----> 1\u001b[1;33m \u001b[0mM\u001b[0m\u001b[1;33m[\u001b[0m\u001b[1;36m50\u001b[0m\u001b[1;33m]\u001b[0m \u001b[1;33m=\u001b[0m \u001b[1;36m1\u001b[0m\u001b[1;33m\u001b[0m\u001b[1;33m\u001b[0m\u001b[0m\n\u001b[0m",
            "\u001b[1;31mIndexError\u001b[0m: list assignment index out of range"
          ]
        }
      ]
    },
    {
      "cell_type": "code",
      "metadata": {
        "id": "FOBenfMuUo6y",
        "colab_type": "code",
        "colab": {}
      },
      "source": [
        "M = [[1,2,3],       # A 3 × 3 matrix, as nested lists\n",
        "     [2,4,6],       # Code can span lines if bracketed\n",
        "     [5,8,4]]"
      ],
      "execution_count": null,
      "outputs": []
    },
    {
      "cell_type": "code",
      "metadata": {
        "id": "ySw4XC2_Uo60",
        "colab_type": "code",
        "colab": {},
        "outputId": "b37b4b53-4e16-46e6-bb85-b764d74c83ca"
      },
      "source": [
        "M"
      ],
      "execution_count": null,
      "outputs": [
        {
          "output_type": "execute_result",
          "data": {
            "text/plain": [
              "[[1, 2, 3], [2, 4, 6], [5, 8, 4]]"
            ]
          },
          "metadata": {
            "tags": []
          },
          "execution_count": 27
        }
      ]
    },
    {
      "cell_type": "code",
      "metadata": {
        "id": "CuHFgGniUo62",
        "colab_type": "code",
        "colab": {},
        "outputId": "3e65084e-32f7-42f2-9d09-a43c73a9b15f"
      },
      "source": [
        "M[1][2]"
      ],
      "execution_count": null,
      "outputs": [
        {
          "output_type": "execute_result",
          "data": {
            "text/plain": [
              "6"
            ]
          },
          "metadata": {
            "tags": []
          },
          "execution_count": 28
        }
      ]
    },
    {
      "cell_type": "code",
      "metadata": {
        "id": "sd9qr7VXUo64",
        "colab_type": "code",
        "colab": {},
        "outputId": "9089f294-921c-43e4-d872-37234e39c39e"
      },
      "source": [
        "col2 = [row[1] for row in M]        # Collect the items in column 2\n",
        "col2"
      ],
      "execution_count": null,
      "outputs": [
        {
          "output_type": "execute_result",
          "data": {
            "text/plain": [
              "[2, 4, 8]"
            ]
          },
          "metadata": {
            "tags": []
          },
          "execution_count": 32
        }
      ]
    },
    {
      "cell_type": "code",
      "metadata": {
        "id": "RWtDRIAjUo66",
        "colab_type": "code",
        "colab": {},
        "outputId": "34bdc90a-ee48-407a-c6c0-171016cb92c3"
      },
      "source": [
        "M       # The matrix is unchanged"
      ],
      "execution_count": null,
      "outputs": [
        {
          "output_type": "execute_result",
          "data": {
            "text/plain": [
              "[[1, 2, 3], [2, 4, 6], [5, 8, 4]]"
            ]
          },
          "metadata": {
            "tags": []
          },
          "execution_count": 33
        }
      ]
    },
    {
      "cell_type": "code",
      "metadata": {
        "id": "9wjGaH97Uo6-",
        "colab_type": "code",
        "colab": {},
        "outputId": "5128ac66-cec0-42f4-d7e4-53add38f8582"
      },
      "source": [
        "[row[2] +1 for row in M]"
      ],
      "execution_count": null,
      "outputs": [
        {
          "output_type": "execute_result",
          "data": {
            "text/plain": [
              "[4, 7, 5]"
            ]
          },
          "metadata": {
            "tags": []
          },
          "execution_count": 34
        }
      ]
    },
    {
      "cell_type": "code",
      "metadata": {
        "id": "-WlONg35Uo7B",
        "colab_type": "code",
        "colab": {},
        "outputId": "4d4ae82c-5082-475b-8425-2251192ce17b"
      },
      "source": [
        "[row[2] for row in M if row[2] % 2 == 0]        # Filter out odd items"
      ],
      "execution_count": null,
      "outputs": [
        {
          "output_type": "execute_result",
          "data": {
            "text/plain": [
              "[6, 4]"
            ]
          },
          "metadata": {
            "tags": []
          },
          "execution_count": 35
        }
      ]
    },
    {
      "cell_type": "code",
      "metadata": {
        "id": "vbrYL3jdUo7E",
        "colab_type": "code",
        "colab": {},
        "outputId": "16c63db6-fb4d-40af-af04-65be4467055b"
      },
      "source": [
        "diag = [M[i][i] for i in [0,1,2]]       # Collect a diagonal from matrix\n",
        "diag"
      ],
      "execution_count": null,
      "outputs": [
        {
          "output_type": "execute_result",
          "data": {
            "text/plain": [
              "[1, 4, 4]"
            ]
          },
          "metadata": {
            "tags": []
          },
          "execution_count": 36
        }
      ]
    },
    {
      "cell_type": "code",
      "metadata": {
        "id": "nIoaY711Uo7F",
        "colab_type": "code",
        "colab": {},
        "outputId": "1f6545e9-f072-4feb-d8c5-66caca9b6dc6"
      },
      "source": [
        "doubles = [ a*2 for a in 'Sujith']\n",
        "doubles"
      ],
      "execution_count": null,
      "outputs": [
        {
          "output_type": "execute_result",
          "data": {
            "text/plain": [
              "['SS', 'uu', 'jj', 'ii', 'tt', 'hh']"
            ]
          },
          "metadata": {
            "tags": []
          },
          "execution_count": 37
        }
      ]
    },
    {
      "cell_type": "code",
      "metadata": {
        "id": "UacjrdAsUo7H",
        "colab_type": "code",
        "colab": {}
      },
      "source": [
        "G = iter([sum(row) for row in M])       # Run the iteration protocol"
      ],
      "execution_count": null,
      "outputs": []
    },
    {
      "cell_type": "code",
      "metadata": {
        "id": "u80x08h0Uo7J",
        "colab_type": "code",
        "colab": {
          "base_uri": "https://localhost:8080/",
          "height": 35
        },
        "outputId": "8363f024-96f1-40c6-ef68-d78c8c565d78"
      },
      "source": [
        "next(G)         #next() iterates the next one"
      ],
      "execution_count": null,
      "outputs": [
        {
          "output_type": "execute_result",
          "data": {
            "text/plain": [
              "6"
            ]
          },
          "metadata": {
            "tags": []
          },
          "execution_count": 5
        }
      ]
    },
    {
      "cell_type": "code",
      "metadata": {
        "id": "AsD8QuI5Uo7N",
        "colab_type": "code",
        "colab": {},
        "outputId": "764cc2d8-8b8f-49b0-e531-b0d92d81162b"
      },
      "source": [
        "next(G)"
      ],
      "execution_count": null,
      "outputs": [
        {
          "output_type": "execute_result",
          "data": {
            "text/plain": [
              "12"
            ]
          },
          "metadata": {
            "tags": []
          },
          "execution_count": 46
        }
      ]
    },
    {
      "cell_type": "code",
      "metadata": {
        "id": "3FECscxJUo7P",
        "colab_type": "code",
        "colab": {},
        "outputId": "b1cc3395-54c3-4d27-e61b-77dee8f3d53f"
      },
      "source": [
        "next(G)"
      ],
      "execution_count": null,
      "outputs": [
        {
          "output_type": "execute_result",
          "data": {
            "text/plain": [
              "17"
            ]
          },
          "metadata": {
            "tags": []
          },
          "execution_count": 47
        }
      ]
    },
    {
      "cell_type": "code",
      "metadata": {
        "id": "rQYG7WpwUo7T",
        "colab_type": "code",
        "colab": {},
        "outputId": "1c3afe47-8ec0-4017-acf6-c8504912846e"
      },
      "source": [
        "list(map(sum,M))        # Map sum over items in M"
      ],
      "execution_count": null,
      "outputs": [
        {
          "output_type": "execute_result",
          "data": {
            "text/plain": [
              "[6, 12, 17]"
            ]
          },
          "metadata": {
            "tags": []
          },
          "execution_count": 48
        }
      ]
    },
    {
      "cell_type": "code",
      "metadata": {
        "id": "5Fha34FGUo7W",
        "colab_type": "code",
        "colab": {},
        "outputId": "05529991-8096-4d67-e446-95a37449a66a"
      },
      "source": [
        "{sum(row) for row in M}         # Create a set of row sums"
      ],
      "execution_count": null,
      "outputs": [
        {
          "output_type": "execute_result",
          "data": {
            "text/plain": [
              "{6, 12, 17}"
            ]
          },
          "metadata": {
            "tags": []
          },
          "execution_count": 49
        }
      ]
    },
    {
      "cell_type": "code",
      "metadata": {
        "id": "AKI8Le3qUo7Y",
        "colab_type": "code",
        "colab": {},
        "outputId": "96aa4c7b-2c2c-4af3-87a9-872602bf94f3"
      },
      "source": [
        "{i: sum(M[i]) for i in range(3)}        # Creates key/value table of row sums"
      ],
      "execution_count": null,
      "outputs": [
        {
          "output_type": "execute_result",
          "data": {
            "text/plain": [
              "{0: 6, 1: 12, 2: 17}"
            ]
          },
          "metadata": {
            "tags": []
          },
          "execution_count": 50
        }
      ]
    },
    {
      "cell_type": "code",
      "metadata": {
        "id": "eWiwYEIqUo7Z",
        "colab_type": "code",
        "colab": {},
        "outputId": "a6a74272-0701-4f25-e58e-70e461003370"
      },
      "source": [
        "[ord(x) for x in \"SSujith\"]         # List of character ordinals"
      ],
      "execution_count": null,
      "outputs": [
        {
          "output_type": "execute_result",
          "data": {
            "text/plain": [
              "[83, 83, 117, 106, 105, 116, 104]"
            ]
          },
          "metadata": {
            "tags": []
          },
          "execution_count": 53
        }
      ]
    },
    {
      "cell_type": "code",
      "metadata": {
        "id": "b3RafpCvUo7c",
        "colab_type": "code",
        "colab": {},
        "outputId": "a629f555-fecf-4814-d0b5-6887baaed2d7"
      },
      "source": [
        "{ord(x) for x in \"Sujith\"}          # Sets remove duplicates"
      ],
      "execution_count": null,
      "outputs": [
        {
          "output_type": "execute_result",
          "data": {
            "text/plain": [
              "{83, 104, 105, 106, 116, 117}"
            ]
          },
          "metadata": {
            "tags": []
          },
          "execution_count": 54
        }
      ]
    },
    {
      "cell_type": "code",
      "metadata": {
        "id": "A5FO8lsaUo7f",
        "colab_type": "code",
        "colab": {},
        "outputId": "0cab0d38-9fab-4340-df8a-64ffb1d39957"
      },
      "source": [
        "{x: ord(x) for x in 'SSujith'}          # Dictionary keys are unique"
      ],
      "execution_count": null,
      "outputs": [
        {
          "output_type": "execute_result",
          "data": {
            "text/plain": [
              "{'S': 83, 'u': 117, 'j': 106, 'i': 105, 't': 116, 'h': 104}"
            ]
          },
          "metadata": {
            "tags": []
          },
          "execution_count": 56
        }
      ]
    },
    {
      "cell_type": "code",
      "metadata": {
        "id": "NhHUQaZhUo7j",
        "colab_type": "code",
        "colab": {}
      },
      "source": [
        ""
      ],
      "execution_count": null,
      "outputs": []
    },
    {
      "cell_type": "markdown",
      "metadata": {
        "id": "8_iJ_UuQ-Khp",
        "colab_type": "text"
      },
      "source": [
        "#Dictionaries"
      ]
    },
    {
      "cell_type": "code",
      "metadata": {
        "id": "BPoS-gns-QfS",
        "colab_type": "code",
        "colab": {}
      },
      "source": [
        "bio = {'name': 'Sujith', 'id': 804, 'branch': 'Civil'}"
      ],
      "execution_count": 8,
      "outputs": []
    },
    {
      "cell_type": "code",
      "metadata": {
        "id": "ku_kqDus-xQ5",
        "colab_type": "code",
        "colab": {
          "base_uri": "https://localhost:8080/",
          "height": 35
        },
        "outputId": "c354bbfe-72aa-4e3c-c71b-e7042abee693"
      },
      "source": [
        "bio['name']"
      ],
      "execution_count": 9,
      "outputs": [
        {
          "output_type": "execute_result",
          "data": {
            "application/vnd.google.colaboratory.intrinsic+json": {
              "type": "string"
            },
            "text/plain": [
              "'Sujith'"
            ]
          },
          "metadata": {
            "tags": []
          },
          "execution_count": 9
        }
      ]
    },
    {
      "cell_type": "code",
      "metadata": {
        "id": "xFvyIm1O-3LH",
        "colab_type": "code",
        "colab": {}
      },
      "source": [
        "bio['id'] += 2"
      ],
      "execution_count": 11,
      "outputs": []
    },
    {
      "cell_type": "code",
      "metadata": {
        "id": "1vNsPuXs_BCX",
        "colab_type": "code",
        "colab": {
          "base_uri": "https://localhost:8080/",
          "height": 35
        },
        "outputId": "c2f0c4f5-7d41-42da-b431-2b08085fdc53"
      },
      "source": [
        "bio"
      ],
      "execution_count": 12,
      "outputs": [
        {
          "output_type": "execute_result",
          "data": {
            "text/plain": [
              "{'branch': 'Civil', 'id': 806, 'name': 'Sujith'}"
            ]
          },
          "metadata": {
            "tags": []
          },
          "execution_count": 12
        }
      ]
    },
    {
      "cell_type": "code",
      "metadata": {
        "id": "ecDkJlsQ_Cw2",
        "colab_type": "code",
        "colab": {}
      },
      "source": [
        "bio['college'] = 'BITS Pilani'      # Create keys by assignment"
      ],
      "execution_count": 13,
      "outputs": []
    },
    {
      "cell_type": "code",
      "metadata": {
        "id": "zlHGb8EN_ZqI",
        "colab_type": "code",
        "colab": {
          "base_uri": "https://localhost:8080/",
          "height": 35
        },
        "outputId": "7038cd9e-b0b0-4ef4-fb7c-214c9a4315ae"
      },
      "source": [
        "bio"
      ],
      "execution_count": 14,
      "outputs": [
        {
          "output_type": "execute_result",
          "data": {
            "text/plain": [
              "{'branch': 'Civil', 'college': 'BITS Pilani', 'id': 806, 'name': 'Sujith'}"
            ]
          },
          "metadata": {
            "tags": []
          },
          "execution_count": 14
        }
      ]
    },
    {
      "cell_type": "code",
      "metadata": {
        "id": "O_qolCCM_aYg",
        "colab_type": "code",
        "colab": {}
      },
      "source": [
        "full_bio = {'name': {'first': 'Sujith', 'last': 'Reddy'},\n",
        "            'hostel': ['SR 141', 'BUDH 4103', 'Shanker 3188'],\n",
        "            'id': 806,\n",
        "            'branch': 'Civil'}"
      ],
      "execution_count": 18,
      "outputs": []
    },
    {
      "cell_type": "code",
      "metadata": {
        "id": "UiFL4lksAbVT",
        "colab_type": "code",
        "colab": {
          "base_uri": "https://localhost:8080/",
          "height": 35
        },
        "outputId": "263caab6-fd55-430f-fce2-e6c17183cae4"
      },
      "source": [
        "full_bio['name']"
      ],
      "execution_count": 19,
      "outputs": [
        {
          "output_type": "execute_result",
          "data": {
            "text/plain": [
              "{'first': 'Sujith', 'last': 'Reddy'}"
            ]
          },
          "metadata": {
            "tags": []
          },
          "execution_count": 19
        }
      ]
    },
    {
      "cell_type": "code",
      "metadata": {
        "id": "KsKFj4iZA_PG",
        "colab_type": "code",
        "colab": {
          "base_uri": "https://localhost:8080/",
          "height": 35
        },
        "outputId": "a9dd6586-196b-45b2-8e1b-786bdd40815b"
      },
      "source": [
        "full_bio['name']['first']"
      ],
      "execution_count": 20,
      "outputs": [
        {
          "output_type": "execute_result",
          "data": {
            "application/vnd.google.colaboratory.intrinsic+json": {
              "type": "string"
            },
            "text/plain": [
              "'Sujith'"
            ]
          },
          "metadata": {
            "tags": []
          },
          "execution_count": 20
        }
      ]
    },
    {
      "cell_type": "code",
      "metadata": {
        "id": "znFp8YxUBEW_",
        "colab_type": "code",
        "colab": {
          "base_uri": "https://localhost:8080/",
          "height": 35
        },
        "outputId": "0f05626f-a1cd-45ea-b8b1-1576aee52100"
      },
      "source": [
        "full_bio['hostel'][-1]"
      ],
      "execution_count": 21,
      "outputs": [
        {
          "output_type": "execute_result",
          "data": {
            "application/vnd.google.colaboratory.intrinsic+json": {
              "type": "string"
            },
            "text/plain": [
              "'Shanker 3188'"
            ]
          },
          "metadata": {
            "tags": []
          },
          "execution_count": 21
        }
      ]
    },
    {
      "cell_type": "code",
      "metadata": {
        "id": "JyjWn9jxBNdX",
        "colab_type": "code",
        "colab": {}
      },
      "source": [
        "full_bio['hostel'].append('Krishna ****')"
      ],
      "execution_count": 22,
      "outputs": []
    },
    {
      "cell_type": "code",
      "metadata": {
        "id": "uaBMKvSbBe5W",
        "colab_type": "code",
        "colab": {
          "base_uri": "https://localhost:8080/",
          "height": 35
        },
        "outputId": "c183d68a-0785-437b-c98c-f165d9d7736a"
      },
      "source": [
        "full_bio['hostel']"
      ],
      "execution_count": 23,
      "outputs": [
        {
          "output_type": "execute_result",
          "data": {
            "text/plain": [
              "['SR 141', 'BUDH 4103', 'Shanker 3188', 'Krishna ****']"
            ]
          },
          "metadata": {
            "tags": []
          },
          "execution_count": 23
        }
      ]
    },
    {
      "cell_type": "code",
      "metadata": {
        "id": "yX4y7deWBhZ3",
        "colab_type": "code",
        "colab": {
          "base_uri": "https://localhost:8080/",
          "height": 90
        },
        "outputId": "64db0acd-7c85-4eb7-b2a3-9c5f037ca552"
      },
      "source": [
        "full_bio"
      ],
      "execution_count": 24,
      "outputs": [
        {
          "output_type": "execute_result",
          "data": {
            "text/plain": [
              "{'branch': 'Civil',\n",
              " 'hostel': ['SR 141', 'BUDH 4103', 'Shanker 3188', 'Krishna ****'],\n",
              " 'id': 806,\n",
              " 'name': {'first': 'Sujith', 'last': 'Reddy'}}"
            ]
          },
          "metadata": {
            "tags": []
          },
          "execution_count": 24
        }
      ]
    },
    {
      "cell_type": "code",
      "metadata": {
        "id": "0IN4CNT6Bl7W",
        "colab_type": "code",
        "colab": {}
      },
      "source": [
        "D = {'a':1, 'c':3, 'b':2}"
      ],
      "execution_count": 27,
      "outputs": []
    },
    {
      "cell_type": "code",
      "metadata": {
        "id": "aXtE4Uc5C8-9",
        "colab_type": "code",
        "colab": {
          "base_uri": "https://localhost:8080/",
          "height": 35
        },
        "outputId": "cbea278d-eafe-404c-80a8-892eba8c41af"
      },
      "source": [
        "D"
      ],
      "execution_count": 28,
      "outputs": [
        {
          "output_type": "execute_result",
          "data": {
            "text/plain": [
              "{'a': 1, 'b': 2, 'c': 3}"
            ]
          },
          "metadata": {
            "tags": []
          },
          "execution_count": 28
        }
      ]
    },
    {
      "cell_type": "code",
      "metadata": {
        "id": "xubec2uaC9nF",
        "colab_type": "code",
        "colab": {
          "base_uri": "https://localhost:8080/",
          "height": 72
        },
        "outputId": "6388a653-95f8-48de-cc2f-0b1eb968c5e9"
      },
      "source": [
        "for key in D:\n",
        "  print(key,'=>',D[key])      # the output is not sorted"
      ],
      "execution_count": 30,
      "outputs": [
        {
          "output_type": "stream",
          "text": [
            "a => 1\n",
            "c => 3\n",
            "b => 2\n"
          ],
          "name": "stdout"
        }
      ]
    },
    {
      "cell_type": "code",
      "metadata": {
        "id": "zYJjx-RbDMU8",
        "colab_type": "code",
        "colab": {
          "base_uri": "https://localhost:8080/",
          "height": 35
        },
        "outputId": "efa9d2d7-27d8-49bb-ed55-6e843667c13e"
      },
      "source": [
        "ls = list(D.keys())\n",
        "ls"
      ],
      "execution_count": 32,
      "outputs": [
        {
          "output_type": "execute_result",
          "data": {
            "text/plain": [
              "['a', 'c', 'b']"
            ]
          },
          "metadata": {
            "tags": []
          },
          "execution_count": 32
        }
      ]
    },
    {
      "cell_type": "code",
      "metadata": {
        "id": "4b0rVWDYDhuF",
        "colab_type": "code",
        "colab": {
          "base_uri": "https://localhost:8080/",
          "height": 35
        },
        "outputId": "4c230ecd-201f-4b1c-9424-6200504ca3a7"
      },
      "source": [
        "ls.sort()\n",
        "ls"
      ],
      "execution_count": 33,
      "outputs": [
        {
          "output_type": "execute_result",
          "data": {
            "text/plain": [
              "['a', 'b', 'c']"
            ]
          },
          "metadata": {
            "tags": []
          },
          "execution_count": 33
        }
      ]
    },
    {
      "cell_type": "code",
      "metadata": {
        "id": "ys4joNOEDqh1",
        "colab_type": "code",
        "colab": {
          "base_uri": "https://localhost:8080/",
          "height": 72
        },
        "outputId": "ae79981b-0d23-411b-e5d4-92bc92837cac"
      },
      "source": [
        "for key in ls:                  # this is one way to sort\n",
        "  print(key, '=>', D[key])"
      ],
      "execution_count": 35,
      "outputs": [
        {
          "output_type": "stream",
          "text": [
            "a => 1\n",
            "b => 2\n",
            "c => 3\n"
          ],
          "name": "stdout"
        }
      ]
    },
    {
      "cell_type": "code",
      "metadata": {
        "id": "SSPEZebbD0Js",
        "colab_type": "code",
        "colab": {
          "base_uri": "https://localhost:8080/",
          "height": 72
        },
        "outputId": "7cebcccf-a099-4de7-d6a0-add541cb78d0"
      },
      "source": [
        "for key in sorted(D):           #this one saves few lines of code\n",
        "  print(key, '=>', D[key])"
      ],
      "execution_count": 37,
      "outputs": [
        {
          "output_type": "stream",
          "text": [
            "a => 1\n",
            "b => 2\n",
            "c => 3\n"
          ],
          "name": "stdout"
        }
      ]
    },
    {
      "cell_type": "code",
      "metadata": {
        "id": "-Tl-skMLEG28",
        "colab_type": "code",
        "colab": {}
      },
      "source": [
        "squares = [x**2 for x in [1,2,3,4]]"
      ],
      "execution_count": 48,
      "outputs": []
    },
    {
      "cell_type": "code",
      "metadata": {
        "id": "aSvmvtEFJuE8",
        "colab_type": "code",
        "colab": {
          "base_uri": "https://localhost:8080/",
          "height": 35
        },
        "outputId": "73fbb109-8c3e-479c-a6d7-3ecfedad6bd8"
      },
      "source": [
        "squares"
      ],
      "execution_count": 49,
      "outputs": [
        {
          "output_type": "execute_result",
          "data": {
            "text/plain": [
              "[1, 4, 9, 16]"
            ]
          },
          "metadata": {
            "tags": []
          },
          "execution_count": 49
        }
      ]
    },
    {
      "cell_type": "code",
      "metadata": {
        "id": "HFI1_XT2JvVZ",
        "colab_type": "code",
        "colab": {
          "base_uri": "https://localhost:8080/",
          "height": 35
        },
        "outputId": "85969c5c-a895-42a7-9ddb-c9ef097dc2f1"
      },
      "source": [
        "type(squares)"
      ],
      "execution_count": 50,
      "outputs": [
        {
          "output_type": "execute_result",
          "data": {
            "text/plain": [
              "list"
            ]
          },
          "metadata": {
            "tags": []
          },
          "execution_count": 50
        }
      ]
    },
    {
      "cell_type": "code",
      "metadata": {
        "id": "zRQGql2mJ_tp",
        "colab_type": "code",
        "colab": {
          "base_uri": "https://localhost:8080/",
          "height": 35
        },
        "outputId": "bb92418f-e774-454b-9ccb-966630ba8c2b"
      },
      "source": [
        "squares = []\n",
        "for x in [1,2,3,4]:       # This is what a list comprehension does\n",
        "  squares.append(x**2)    # Both run the iteration protocol internally\n",
        "squares"
      ],
      "execution_count": 52,
      "outputs": [
        {
          "output_type": "execute_result",
          "data": {
            "text/plain": [
              "[1, 4, 9, 16]"
            ]
          },
          "metadata": {
            "tags": []
          },
          "execution_count": 52
        }
      ]
    },
    {
      "cell_type": "code",
      "metadata": {
        "id": "0vgpgRutKabR",
        "colab_type": "code",
        "colab": {}
      },
      "source": [
        "D = {'a':1, 'c':3, 'b':2}"
      ],
      "execution_count": 53,
      "outputs": []
    },
    {
      "cell_type": "code",
      "metadata": {
        "id": "inw_hKPUKswd",
        "colab_type": "code",
        "colab": {}
      },
      "source": [
        "D['d'] = 4          # Assigning new keys grows dictionaries"
      ],
      "execution_count": 54,
      "outputs": []
    },
    {
      "cell_type": "code",
      "metadata": {
        "id": "jH4EwXvAKwko",
        "colab_type": "code",
        "colab": {
          "base_uri": "https://localhost:8080/",
          "height": 35
        },
        "outputId": "8b282c73-e506-432f-ee38-162c331631ac"
      },
      "source": [
        "D"
      ],
      "execution_count": 55,
      "outputs": [
        {
          "output_type": "execute_result",
          "data": {
            "text/plain": [
              "{'a': 1, 'b': 2, 'c': 3, 'd': 4}"
            ]
          },
          "metadata": {
            "tags": []
          },
          "execution_count": 55
        }
      ]
    },
    {
      "cell_type": "code",
      "metadata": {
        "id": "XG8ah9MIKw81",
        "colab_type": "code",
        "colab": {
          "base_uri": "https://localhost:8080/",
          "height": 171
        },
        "outputId": "1d43a6ba-6091-4af3-cec7-80f120236f2e"
      },
      "source": [
        "D['f']        # Referencing a nonexistent key is an error"
      ],
      "execution_count": 56,
      "outputs": [
        {
          "output_type": "error",
          "ename": "KeyError",
          "evalue": "ignored",
          "traceback": [
            "\u001b[0;31m---------------------------------------------------------------------------\u001b[0m",
            "\u001b[0;31mKeyError\u001b[0m                                  Traceback (most recent call last)",
            "\u001b[0;32m<ipython-input-56-320d360f1852>\u001b[0m in \u001b[0;36m<module>\u001b[0;34m()\u001b[0m\n\u001b[0;32m----> 1\u001b[0;31m \u001b[0mD\u001b[0m\u001b[0;34m[\u001b[0m\u001b[0;34m'f'\u001b[0m\u001b[0;34m]\u001b[0m\u001b[0;34m\u001b[0m\u001b[0;34m\u001b[0m\u001b[0m\n\u001b[0m",
            "\u001b[0;31mKeyError\u001b[0m: 'f'"
          ]
        }
      ]
    },
    {
      "cell_type": "code",
      "metadata": {
        "id": "QPjQxi3YK0zl",
        "colab_type": "code",
        "colab": {
          "base_uri": "https://localhost:8080/",
          "height": 35
        },
        "outputId": "94850ca8-842f-497b-8399-f80cf6df196f"
      },
      "source": [
        "if 'f' not in D:\n",
        "  print('missing')\n",
        "else:\n",
        "  print('present')"
      ],
      "execution_count": 58,
      "outputs": [
        {
          "output_type": "stream",
          "text": [
            "missing\n"
          ],
          "name": "stdout"
        }
      ]
    },
    {
      "cell_type": "code",
      "metadata": {
        "id": "aQglAFOkLCkg",
        "colab_type": "code",
        "colab": {
          "base_uri": "https://localhost:8080/",
          "height": 35
        },
        "outputId": "4f5a3cd0-0ebb-45f6-a56c-f2f0716ebeb9"
      },
      "source": [
        "if 'c' not in D:\n",
        "  print('missing')\n",
        "else:\n",
        "  print('present')"
      ],
      "execution_count": 59,
      "outputs": [
        {
          "output_type": "stream",
          "text": [
            "present\n"
          ],
          "name": "stdout"
        }
      ]
    },
    {
      "cell_type": "code",
      "metadata": {
        "id": "-FtYY0sILOWB",
        "colab_type": "code",
        "colab": {
          "base_uri": "https://localhost:8080/",
          "height": 35
        },
        "outputId": "993d9d76-412a-4b00-a7bb-28a20fc83058"
      },
      "source": [
        "value = D.get('e', 0)         # Index but with a default\n",
        "value"
      ],
      "execution_count": 60,
      "outputs": [
        {
          "output_type": "execute_result",
          "data": {
            "text/plain": [
              "0"
            ]
          },
          "metadata": {
            "tags": []
          },
          "execution_count": 60
        }
      ]
    },
    {
      "cell_type": "code",
      "metadata": {
        "id": "Te8PkTAAL3XA",
        "colab_type": "code",
        "colab": {
          "base_uri": "https://localhost:8080/",
          "height": 35
        },
        "outputId": "18be04d0-5eb2-4e57-d23d-fe5f50d5b471"
      },
      "source": [
        "value  = D['x'] if 'x' in D else 0          # if/else expression form\n",
        "value"
      ],
      "execution_count": 61,
      "outputs": [
        {
          "output_type": "execute_result",
          "data": {
            "text/plain": [
              "0"
            ]
          },
          "metadata": {
            "tags": []
          },
          "execution_count": 61
        }
      ]
    },
    {
      "cell_type": "code",
      "metadata": {
        "id": "ykSRyPReMDro",
        "colab_type": "code",
        "colab": {
          "base_uri": "https://localhost:8080/",
          "height": 35
        },
        "outputId": "40e4919e-5478-4d8f-8e5e-b078d3951bf7"
      },
      "source": [
        "value = D.get('b',0)\n",
        "value"
      ],
      "execution_count": 62,
      "outputs": [
        {
          "output_type": "execute_result",
          "data": {
            "text/plain": [
              "2"
            ]
          },
          "metadata": {
            "tags": []
          },
          "execution_count": 62
        }
      ]
    },
    {
      "cell_type": "markdown",
      "metadata": {
        "id": "t1nBYl05MTOV",
        "colab_type": "text"
      },
      "source": [
        "#Tuples"
      ]
    },
    {
      "cell_type": "code",
      "metadata": {
        "id": "mewKimfzMQNX",
        "colab_type": "code",
        "colab": {}
      },
      "source": [
        "T = (1, 2, 3, 4)"
      ],
      "execution_count": 63,
      "outputs": []
    },
    {
      "cell_type": "code",
      "metadata": {
        "id": "oRxbvsZbMclw",
        "colab_type": "code",
        "colab": {
          "base_uri": "https://localhost:8080/",
          "height": 35
        },
        "outputId": "2e4595aa-42c5-4615-bab5-aea082bdf932"
      },
      "source": [
        "type(T)"
      ],
      "execution_count": 64,
      "outputs": [
        {
          "output_type": "execute_result",
          "data": {
            "text/plain": [
              "tuple"
            ]
          },
          "metadata": {
            "tags": []
          },
          "execution_count": 64
        }
      ]
    },
    {
      "cell_type": "code",
      "metadata": {
        "id": "n-ILQORnMeHg",
        "colab_type": "code",
        "colab": {}
      },
      "source": [
        ""
      ],
      "execution_count": null,
      "outputs": []
    }
  ]
}