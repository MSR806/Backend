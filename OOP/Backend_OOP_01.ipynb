{
  "nbformat": 4,
  "nbformat_minor": 0,
  "metadata": {
    "colab": {
      "name": "Backend_OOP_01.ipynb",
      "provenance": [],
      "collapsed_sections": [
        "If32CSNWdHu5",
        "B9id_D27dMyY",
        "6N8EPpoMjuCu"
      ],
      "authorship_tag": "ABX9TyNC0y99Nuqeg3wafnIlmKwK",
      "include_colab_link": true
    },
    "kernelspec": {
      "name": "python3",
      "display_name": "Python 3"
    }
  },
  "cells": [
    {
      "cell_type": "markdown",
      "metadata": {
        "id": "view-in-github",
        "colab_type": "text"
      },
      "source": [
        "<a href=\"https://colab.research.google.com/github/MSR806/Backend/blob/master/Backend_OOP_01.ipynb\" target=\"_parent\"><img src=\"https://colab.research.google.com/assets/colab-badge.svg\" alt=\"Open In Colab\"/></a>"
      ]
    },
    {
      "cell_type": "markdown",
      "metadata": {
        "id": "If32CSNWdHu5",
        "colab_type": "text"
      },
      "source": [
        "#FirstClass"
      ]
    },
    {
      "cell_type": "code",
      "metadata": {
        "id": "7b2nibKsxcEB",
        "colab_type": "code",
        "colab": {}
      },
      "source": [
        "class FirstClass:\n",
        "  def setdata(self, value):\n",
        "    self.data = value\n",
        "  def display(self):\n",
        "    print(self.data)"
      ],
      "execution_count": 2,
      "outputs": []
    },
    {
      "cell_type": "code",
      "metadata": {
        "id": "6AhoS-IMmaV4",
        "colab_type": "code",
        "colab": {}
      },
      "source": [
        "x = FirstClass()\n",
        "y = FirstClass()"
      ],
      "execution_count": 3,
      "outputs": []
    },
    {
      "cell_type": "code",
      "metadata": {
        "id": "QBz_x7pemg1L",
        "colab_type": "code",
        "colab": {}
      },
      "source": [
        "x.setdata('Sujith')\n",
        "y.setdata(806)"
      ],
      "execution_count": 4,
      "outputs": []
    },
    {
      "cell_type": "code",
      "metadata": {
        "id": "AId-Ekvvmo78",
        "colab_type": "code",
        "colab": {
          "base_uri": "https://localhost:8080/",
          "height": 50
        },
        "outputId": "5678f7b8-d96f-4e98-ba62-fc2c4fe07048"
      },
      "source": [
        "x.display()\n",
        "y.display()"
      ],
      "execution_count": 5,
      "outputs": [
        {
          "output_type": "stream",
          "text": [
            "Sujith\n",
            "806\n"
          ],
          "name": "stdout"
        }
      ]
    },
    {
      "cell_type": "code",
      "metadata": {
        "id": "2AjWbyrdmuI7",
        "colab_type": "code",
        "colab": {
          "base_uri": "https://localhost:8080/",
          "height": 84
        },
        "outputId": "f3c7f876-6e4e-4250-f436-70ef13e7218e"
      },
      "source": [
        "print(x.data)\n",
        "print(y.data)\n",
        "print(type(x.data))         # self.data differs in each instance\n",
        "print(type(y.data))"
      ],
      "execution_count": 6,
      "outputs": [
        {
          "output_type": "stream",
          "text": [
            "Sujith\n",
            "806\n",
            "<class 'str'>\n",
            "<class 'int'>\n"
          ],
          "name": "stdout"
        }
      ]
    },
    {
      "cell_type": "code",
      "metadata": {
        "id": "FIkTuHS_m6O7",
        "colab_type": "code",
        "colab": {
          "base_uri": "https://localhost:8080/",
          "height": 35
        },
        "outputId": "85234eb8-ccfa-4464-a934-31b1360aed2f"
      },
      "source": [
        "x.data = 'NewValue'       # Can get/set attributes\n",
        "x.data                    # Outside the class too"
      ],
      "execution_count": 7,
      "outputs": [
        {
          "output_type": "execute_result",
          "data": {
            "application/vnd.google.colaboratory.intrinsic+json": {
              "type": "string"
            },
            "text/plain": [
              "'NewValue'"
            ]
          },
          "metadata": {
            "tags": []
          },
          "execution_count": 7
        }
      ]
    },
    {
      "cell_type": "code",
      "metadata": {
        "id": "e52QVPTsbD9j",
        "colab_type": "code",
        "colab": {
          "base_uri": "https://localhost:8080/",
          "height": 35
        },
        "outputId": "5dddc91a-5dfc-4894-8d58-089f95f03150"
      },
      "source": [
        "x.anothername = 'Bruh'    # Can set new attributes here too!\n",
        "x.anothername"
      ],
      "execution_count": 8,
      "outputs": [
        {
          "output_type": "execute_result",
          "data": {
            "application/vnd.google.colaboratory.intrinsic+json": {
              "type": "string"
            },
            "text/plain": [
              "'Bruh'"
            ]
          },
          "metadata": {
            "tags": []
          },
          "execution_count": 8
        }
      ]
    },
    {
      "cell_type": "markdown",
      "metadata": {
        "id": "B9id_D27dMyY",
        "colab_type": "text"
      },
      "source": [
        "#SecondClass"
      ]
    },
    {
      "cell_type": "code",
      "metadata": {
        "id": "UrT58MCMbYV4",
        "colab_type": "code",
        "colab": {}
      },
      "source": [
        "class SecondClass(FirstClass):\n",
        "  def display(self):\n",
        "    print('The current value = \"%s\"' % self.data)"
      ],
      "execution_count": 9,
      "outputs": []
    },
    {
      "cell_type": "code",
      "metadata": {
        "id": "Hn2gPtK0eSD4",
        "colab_type": "code",
        "colab": {
          "base_uri": "https://localhost:8080/",
          "height": 34
        },
        "outputId": "0534d307-ed04-4715-9a63-ea21934080c0"
      },
      "source": [
        "z = SecondClass()\n",
        "z.setdata(42)           # Finds setdata in FirstClass\n",
        "z.display()             # Finds overwritten method in SecondClass"
      ],
      "execution_count": 10,
      "outputs": [
        {
          "output_type": "stream",
          "text": [
            "The current value = \"42\"\n"
          ],
          "name": "stdout"
        }
      ]
    },
    {
      "cell_type": "code",
      "metadata": {
        "id": "ADq0A_RNewkX",
        "colab_type": "code",
        "colab": {
          "base_uri": "https://localhost:8080/",
          "height": 34
        },
        "outputId": "09568365-472b-4d98-f3e8-5ec3f5e74147"
      },
      "source": [
        "x.display()             # x still a FirstClass instance (old message)"
      ],
      "execution_count": 11,
      "outputs": [
        {
          "output_type": "stream",
          "text": [
            "NewValue\n"
          ],
          "name": "stdout"
        }
      ]
    },
    {
      "cell_type": "markdown",
      "metadata": {
        "id": "JyDLAyIzgbqW",
        "colab_type": "text"
      },
      "source": [
        "\n",
        "\n",
        "---\n",
        "\n",
        "\n",
        "If our FirstClass was coded in a\n",
        "module file instead of being typed interactively, we could import it and use its name\n",
        "normally in a class header line:\n",
        "\n",
        "\n",
        "\n",
        "```\n",
        "from modulename import FirstClass      # Copy name into my scope\n",
        "class SecondClass(FirstClass):         # Use class name directly\n",
        "def display(self): ...\n",
        "```\n",
        "Or, equivalently:\n",
        "\n",
        "```\n",
        "import modulename                          # Access the whole module\n",
        "class SecondClass(modulename.FirstClass):  # Qualify to reference\n",
        "def display(self): ...\n",
        "\n",
        "```\n",
        "---\n"
      ]
    },
    {
      "cell_type": "markdown",
      "metadata": {
        "id": "6N8EPpoMjuCu",
        "colab_type": "text"
      },
      "source": [
        "#ThirdClass"
      ]
    },
    {
      "cell_type": "code",
      "metadata": {
        "id": "6nIxpGhvf2FW",
        "colab_type": "code",
        "colab": {}
      },
      "source": [
        "class ThirdClass(SecondClass):        # Inherit from SecondClass\n",
        "  def __init__(self,data):            # On \"ThirdClass(value)\"\n",
        "    self.data = data\n",
        "\n",
        "  def __add__(self,other):            # On \"self + other\"\n",
        "    return ThirdClass(self.data + other)\n",
        "\n",
        "  def __str__(self):                  # On \"print(self)\", \"str()\"\n",
        "    return '[ThirdClass: %s]' % self.data\n",
        "\n",
        "  def mul(self, other):               # In-place change: named\n",
        "    self.data *= other\n",
        "    "
      ],
      "execution_count": 20,
      "outputs": []
    },
    {
      "cell_type": "code",
      "metadata": {
        "id": "btcbkRACcP1b",
        "colab_type": "code",
        "colab": {}
      },
      "source": [
        "a = ThirdClass('abc')                 # __init__ called"
      ],
      "execution_count": 21,
      "outputs": []
    },
    {
      "cell_type": "code",
      "metadata": {
        "id": "rHQwuCYceyJA",
        "colab_type": "code",
        "colab": {
          "base_uri": "https://localhost:8080/",
          "height": 34
        },
        "outputId": "fdc23559-3b83-4079-ad2f-31c5128959bd"
      },
      "source": [
        "a.display()                           # Inherited method called"
      ],
      "execution_count": 22,
      "outputs": [
        {
          "output_type": "stream",
          "text": [
            "The current value = \"abc\"\n"
          ],
          "name": "stdout"
        }
      ]
    },
    {
      "cell_type": "code",
      "metadata": {
        "id": "RQSLVBXceZeN",
        "colab_type": "code",
        "colab": {
          "base_uri": "https://localhost:8080/",
          "height": 34
        },
        "outputId": "78b25582-dffd-400e-b612-d4305c9dac32"
      },
      "source": [
        "print(a)                              # __str__: returns display string"
      ],
      "execution_count": 23,
      "outputs": [
        {
          "output_type": "stream",
          "text": [
            "[ThirdClass: abc]\n"
          ],
          "name": "stdout"
        }
      ]
    },
    {
      "cell_type": "code",
      "metadata": {
        "id": "s8vkBs0oeczF",
        "colab_type": "code",
        "colab": {
          "base_uri": "https://localhost:8080/",
          "height": 34
        },
        "outputId": "b886dc5c-844f-4dee-acb7-dcc509d47f97"
      },
      "source": [
        "b = a + 'xyz'                         # __add__: makes a new instance\n",
        "b.display()                           # b has all ThirdClass methods"
      ],
      "execution_count": 24,
      "outputs": [
        {
          "output_type": "stream",
          "text": [
            "The current value = \"abcxyz\"\n"
          ],
          "name": "stdout"
        }
      ]
    },
    {
      "cell_type": "code",
      "metadata": {
        "id": "B09SdDZneq72",
        "colab_type": "code",
        "colab": {
          "base_uri": "https://localhost:8080/",
          "height": 34
        },
        "outputId": "adc8b84e-db09-4701-c16f-a735f836a14e"
      },
      "source": [
        "print(b)                              # __str__: returns display string"
      ],
      "execution_count": 25,
      "outputs": [
        {
          "output_type": "stream",
          "text": [
            "[ThirdClass: abcxyz]\n"
          ],
          "name": "stdout"
        }
      ]
    },
    {
      "cell_type": "code",
      "metadata": {
        "id": "ZKvxkfi1fItm",
        "colab_type": "code",
        "colab": {
          "base_uri": "https://localhost:8080/",
          "height": 34
        },
        "outputId": "d60d1118-7871-4424-ba71-3f80d07a3592"
      },
      "source": [
        "a.mul(3)                              # mul: changes instance in-place\n",
        "print(a)"
      ],
      "execution_count": 26,
      "outputs": [
        {
          "output_type": "stream",
          "text": [
            "[ThirdClass: abcabcabc]\n"
          ],
          "name": "stdout"
        }
      ]
    },
    {
      "cell_type": "code",
      "metadata": {
        "id": "4bo7l9XLfQKm",
        "colab_type": "code",
        "colab": {
          "base_uri": "https://localhost:8080/",
          "height": 34
        },
        "outputId": "ca53d44d-87d5-4c6b-dd60-3404843f3a6a"
      },
      "source": [
        "FirstClass.__dict__.keys()"
      ],
      "execution_count": 27,
      "outputs": [
        {
          "output_type": "execute_result",
          "data": {
            "text/plain": [
              "dict_keys(['__module__', 'setdata', 'display', '__dict__', '__weakref__', '__doc__'])"
            ]
          },
          "metadata": {
            "tags": []
          },
          "execution_count": 27
        }
      ]
    },
    {
      "cell_type": "code",
      "metadata": {
        "id": "MSw0jtxLhrJc",
        "colab_type": "code",
        "colab": {
          "base_uri": "https://localhost:8080/",
          "height": 34
        },
        "outputId": "d5f32422-6cf8-4ce2-82da-3b5526bdeea1"
      },
      "source": [
        "list(a.__dict__.keys())"
      ],
      "execution_count": 28,
      "outputs": [
        {
          "output_type": "execute_result",
          "data": {
            "text/plain": [
              "['data']"
            ]
          },
          "metadata": {
            "tags": []
          },
          "execution_count": 28
        }
      ]
    },
    {
      "cell_type": "code",
      "metadata": {
        "id": "P8cpoOLLh5TM",
        "colab_type": "code",
        "colab": {
          "base_uri": "https://localhost:8080/",
          "height": 34
        },
        "outputId": "55a1f0f3-a353-437c-94f1-607b9c522e54"
      },
      "source": [
        "a.__class__"
      ],
      "execution_count": 29,
      "outputs": [
        {
          "output_type": "execute_result",
          "data": {
            "text/plain": [
              "__main__.ThirdClass"
            ]
          },
          "metadata": {
            "tags": []
          },
          "execution_count": 29
        }
      ]
    },
    {
      "cell_type": "code",
      "metadata": {
        "id": "qIQ7dDibiMK5",
        "colab_type": "code",
        "colab": {}
      },
      "source": [
        ""
      ],
      "execution_count": null,
      "outputs": []
    }
  ]
}